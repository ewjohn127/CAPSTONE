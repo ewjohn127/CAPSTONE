{
 "cells": [
  {
   "cell_type": "markdown",
   "metadata": {},
   "source": [
    "# Predicting Building Energy Use"
   ]
  },
  {
   "cell_type": "markdown",
   "metadata": {},
   "source": [
    "<img src=\"https://upload.wikimedia.org/wikipedia/commons/thumb/2/2b/NYC_Downtown_Manhattan_Skyline_seen_from_Paulus_Hook_2019-12-20_IMG_7347_FRD_%28cropped%29.jpg/1600px-NYC_Downtown_Manhattan_Skyline_seen_from_Paulus_Hook_2019-12-20_IMG_7347_FRD_%28cropped%29.jpg\" alt=\"NYC Downtown Manhattan Skyline seen from Paulus Hook - Fred Hsu on en.wikipedia - Own work\" class=\"center\">"
   ]
  },
  {
   "cell_type": "markdown",
   "metadata": {},
   "source": [
    "## Project Understanding and Technical Overview\n",
    "\n",
    "This notebook covers the modeling performed with the [NYC Open Data](https://data.cityofnewyork.us/Environment/Energy-and-Water-Data-Disclosure-for-Local-Law-84-/usc3-8zwd) dataset to predict annual electricity usage for buildings. The model uses building size, primary use and energy efficiency information to make a prediction on the annual electricity use. Identifying the important features in determining electricity use could help to inform energy credit programs that can incentivize energy abusers.\n",
    "\n",
    "The dataset has 256 columns to work with. Each observation is a building. There are several tracked annual energy readings for each building. The electricity purchased from the energy grid is chosen as the target due to it being reported on by the utility company instead of self-reporting (less prone to errors). Recursive Feature Elimination is used to select the most significant features for modeling. Missing values are imputed using the median. Categorical columns are encoded.\n",
    "\n",
    "The first simple model uses linear regression which produces an RMSE of 940 MWh. The final ensemble model is a Random Forest Regressor which produces an RMSE of 614 MWh. The average annual electricity usage for a building >50,000 sqft in NYC is 975 MWh +/- 1,700 MWh."
   ]
  },
  {
   "cell_type": "markdown",
   "metadata": {},
   "source": [
    "## Business Understanding\n",
    "\n",
    "Buildings account for 76% of all electricity use in the United States. This translates to 40% of total greenhouse gas emissions from baseline power (coal and oil). Over half of a buildings energy draw comes from environment control:\n",
    "\n",
    "* lighting\n",
    "* cooling\n",
    "* heating\n",
    "* ventilation\n",
    "* refrigeration\n",
    "\n",
    "<img src=\"images/piechart.png\" class=\"center\" width=\"400\" height=\"400\" >\n",
    "\n",
    "New York State Energy Plan:\n",
    "\n",
    "*\"The State Energy Plan is a comprehensive roadmap to build a clean, resilient, and affordable energy system for all New Yorkers. The Plan coordinates every State agency and authority that touches energy to advance the REV agenda, unleashing groundbreaking regulatory reform to integrate clean energy into the core of our power grid, redesigning programs to unlock private capital, and actively deploying innovative energy solutions across the State’s own public facilities and operations.\"* ([EnergyPlan.NY.gov](https://energyplan.ny.gov/))\n",
    "\n",
    "The plan has the following goals for the state:\n",
    "\n",
    "* 40% reduction in greenhouse gas emissions from 1990 levels\n",
    "* 50% of energy generation from renewable energy sources\n",
    "* 600 trillion Btu increase in statewide energy efficiency\n",
    "\n",
    "Being able to predict the annual electricity usage of a building based on it's size, primary use and energy efficiency rating would allow for better municipal planning and could help with identifying buildings that over-consume. This would be ideal for planning city sustainability projects as energy consumption could be predicted based on a forecasted change in energy efficiency of buildings. Based on required energy reductions predicted by this model the state could tailor sustainability programs to incentivize building managers to increase energy efficiency (reduce energy consumption).\n",
    "\n"
   ]
  },
  {
   "cell_type": "markdown",
   "metadata": {},
   "source": [
    "## Data Understanding\n",
    "\n",
    "**Target Variable - Annual Electricity Usage:**\n",
    "\n",
    "Energy use is typically tracked in kWh (killowatt hours) or MWh (megawatt hours = 1,000 killowatt hours) using electric meters installed by a utility company. NYC's Local Law 87 requires that buildings over 50,000 sqft undergo energy audits which include accurate, annual reporting of energy usage. Over 20,000 buildings within New York City fall under this law.\n",
    "\n",
    "<img src=\"images/smart_meter.jpg\" class=\"center\">\n",
    "\n",
    "**Building Energy Efficiency:**\n",
    "\n",
    "A building's EnergyStar Score is a relative benchmark to other buildings of similar qualities. The higher the score the more energy efficient that building is. An EnergyStar Score of 50 is the median energy efficiency. In the state of New York, buildings above an EnergyStar Score of 70 are eligible for rebates through special state run programs.\n",
    "\n",
    "**Primary Use:**\n",
    "\n",
    "The primary use of a building is a general building classification. The top 5 classifications:\n",
    "1. Multifamily Housing\n",
    "2. Office\n",
    "3. K-12 School\n",
    "4. College/University\n",
    "5. Hotel"
   ]
  },
  {
   "cell_type": "markdown",
   "metadata": {},
   "source": [
    "## Data Exploration"
   ]
  },
  {
   "cell_type": "markdown",
   "metadata": {},
   "source": [
    "Below the necessary imports are loaded."
   ]
  },
  {
   "cell_type": "code",
   "execution_count": 2,
   "metadata": {},
   "outputs": [],
   "source": [
    "import pandas as pd\n",
    "import numpy as np\n",
    "\n",
    "import matplotlib.pyplot as plt\n",
    "import seaborn as sns\n",
    "\n",
    "from scipy import stats\n",
    "from statsmodels.api import qqplot\n",
    "\n",
    "from sklearn.impute import SimpleImputer\n",
    "from sklearn.model_selection import train_test_split, cross_val_score, GridSearchCV\n",
    "from sklearn.preprocessing import StandardScaler, OneHotEncoder, LabelEncoder\n",
    "from sklearn.feature_selection import RFE\n",
    "from sklearn.metrics import mean_squared_error\n",
    "\n",
    "from sklearn.linear_model import LinearRegression\n",
    "from sklearn.tree import DecisionTreeRegressor\n",
    "from sklearn.ensemble import RandomForestRegressor"
   ]
  },
  {
   "cell_type": "markdown",
   "metadata": {},
   "source": [
    "The data comes from [NYC Open Data](https://data.cityofnewyork.us/Environment/Energy-and-Water-Data-Disclosure-for-Local-Law-84-/usc3-8zwd). The target column is the 'Electricity Use - Grid Purchase (kWh)'. Here, the dataset is read in and the used columns are filtered for."
   ]
  },
  {
   "cell_type": "code",
   "execution_count": 3,
   "metadata": {},
   "outputs": [
    {
     "name": "stderr",
     "output_type": "stream",
     "text": [
      "/opt/anaconda3/envs/learn-env/lib/python3.8/site-packages/IPython/core/interactiveshell.py:3145: DtypeWarning: Columns (14,31,32,111,113,127,206,236,237,238) have mixed types.Specify dtype option on import or set low_memory=False.\n",
      "  has_raised = await self.run_ast_nodes(code_ast.body, cell_name,\n"
     ]
    }
   ],
   "source": [
    "df = pd.read_csv('/Users/evanjays/Desktop/Programming/Flatiron/CAPSTONE/data_big/Energy_and_Water_Data_Disclosure_for_Local_Law_84_2018__Data_for_Calendar_Year_2017_.csv')"
   ]
  },
  {
   "cell_type": "code",
   "execution_count": 4,
   "metadata": {},
   "outputs": [],
   "source": [
    "dfx = df.filter(['Property Id','Primary Property Type - Self Selected','Largest Property Use Type - Gross Floor Area (ft²)','Year Built','ENERGY STAR Score','ENERGY STAR Certification - Eligibility','Electricity Use - Grid Purchase (kWh)']).copy(deep=True)"
   ]
  },
  {
   "cell_type": "markdown",
   "metadata": {},
   "source": [
    "The building floor square footage histogram is skewed right with an average floor square footage of 120,000 sqft."
   ]
  },
  {
   "cell_type": "code",
   "execution_count": 14,
   "metadata": {},
   "outputs": [
    {
     "data": {
      "text/plain": [
       "<AxesSubplot:ylabel='Frequency'>"
      ]
     },
     "execution_count": 14,
     "metadata": {},
     "output_type": "execute_result"
    },
    {
     "data": {
      "image/png": "[encoded data removed]",
      "text/plain": [
       "<Figure size 432x288 with 1 Axes>"
      ]
     },
     "metadata": {
      "needs_background": "light"
     },
     "output_type": "display_data"
    }
   ],
   "source": [
    "dfx['Largest Property Use Type - Gross Floor Area (ft²)'].plot(kind='hist', xlim=(0,500_000),bins=300)"
   ]
  },
  {
   "cell_type": "code",
   "execution_count": 16,
   "metadata": {},
   "outputs": [
    {
     "data": {
      "text/html": [
       "<div>\n",
       "<style scoped>\n",
       "    .dataframe tbody tr th:only-of-type {\n",
       "        vertical-align: middle;\n",
       "    }\n",
       "\n",
       "    .dataframe tbody tr th {\n",
       "        vertical-align: top;\n",
       "    }\n",
       "\n",
       "    .dataframe thead th {\n",
       "        text-align: right;\n",
       "    }\n",
       "</style>\n",
       "<table border=\"1\" class=\"dataframe\">\n",
       "  <thead>\n",
       "    <tr style=\"text-align: right;\">\n",
       "      <th></th>\n",
       "      <th>Largest Property Use Type - Gross Floor Area (ft²)</th>\n",
       "    </tr>\n",
       "  </thead>\n",
       "  <tbody>\n",
       "    <tr>\n",
       "      <th>count</th>\n",
       "      <td>3.465400e+04</td>\n",
       "    </tr>\n",
       "    <tr>\n",
       "      <th>mean</th>\n",
       "      <td>1.196239e+05</td>\n",
       "    </tr>\n",
       "    <tr>\n",
       "      <th>std</th>\n",
       "      <td>2.950392e+05</td>\n",
       "    </tr>\n",
       "    <tr>\n",
       "      <th>min</th>\n",
       "      <td>1.000000e+00</td>\n",
       "    </tr>\n",
       "    <tr>\n",
       "      <th>25%</th>\n",
       "      <td>4.195400e+04</td>\n",
       "    </tr>\n",
       "    <tr>\n",
       "      <th>50%</th>\n",
       "      <td>6.489500e+04</td>\n",
       "    </tr>\n",
       "    <tr>\n",
       "      <th>75%</th>\n",
       "      <td>1.132290e+05</td>\n",
       "    </tr>\n",
       "    <tr>\n",
       "      <th>max</th>\n",
       "      <td>1.908114e+07</td>\n",
       "    </tr>\n",
       "  </tbody>\n",
       "</table>\n",
       "</div>"
      ],
      "text/plain": [
       "       Largest Property Use Type - Gross Floor Area (ft²)\n",
       "count                                       3.465400e+04 \n",
       "mean                                        1.196239e+05 \n",
       "std                                         2.950392e+05 \n",
       "min                                         1.000000e+00 \n",
       "25%                                         4.195400e+04 \n",
       "50%                                         6.489500e+04 \n",
       "75%                                         1.132290e+05 \n",
       "max                                         1.908114e+07 "
      ]
     },
     "execution_count": 16,
     "metadata": {},
     "output_type": "execute_result"
    }
   ],
   "source": [
    "dfx[['Largest Property Use Type - Gross Floor Area (ft²)']].describe()"
   ]
  },
  {
   "cell_type": "markdown",
   "metadata": {},
   "source": [
    "## Data Cleaning"
   ]
  },
  {
   "cell_type": "markdown",
   "metadata": {},
   "source": [
    "Dropping Duplicate Buildings in dataset based on property id. Duplicates may exist due to self-reporting. A building could have reported twice or more."
   ]
  },
  {
   "cell_type": "code",
   "execution_count": 20,
   "metadata": {},
   "outputs": [],
   "source": [
    "dfx.drop_duplicates('Property Id',inplace=True)"
   ]
  },
  {
   "cell_type": "code",
   "execution_count": 21,
   "metadata": {},
   "outputs": [
    {
     "name": "stdout",
     "output_type": "stream",
     "text": [
      "Starting Buildings Count: 34686 | Starting Columns Count: 256\n",
      "Buildings Count: 22681 | Feature Count: 5\n"
     ]
    }
   ],
   "source": [
    "dfx.drop('Property Id',axis=1,inplace=True)\n",
    "print('Starting Buildings Count:',df.shape[0],'|','Starting Columns Count:',df.shape[1])\n",
    "print('Buildings Count:',dfx.shape[0],'|','Feature Count:',dfx.shape[1]-1)"
   ]
  },
  {
   "cell_type": "markdown",
   "metadata": {},
   "source": [
    "Label encoding the EnergyStar Certification Eligibility column. Reminder - buildings who meet the eligibility have an EnergyStar Score of 70 or greater (in the top 30% of energy performance relative to similar buildings)."
   ]
  },
  {
   "cell_type": "code",
   "execution_count": 22,
   "metadata": {},
   "outputs": [],
   "source": [
    "def energystar(x):\n",
    "    if x == 'No':\n",
    "        return 0\n",
    "    else:\n",
    "        return 1\n",
    "\n",
    "dfx['ENERGY STAR Certification - Eligibility'] = dfx['ENERGY STAR Certification - Eligibility'].map(energystar)"
   ]
  },
  {
   "cell_type": "markdown",
   "metadata": {},
   "source": [
    "Renaming building primary uses to all be in English. Multiple languages for primary use are probably related to self-reporting where the reporter completed the survey in their first language."
   ]
  },
  {
   "cell_type": "code",
   "execution_count": 23,
   "metadata": {},
   "outputs": [],
   "source": [
    "def use_cleanup(x):\n",
    "    if x == 'Collège/Université':\n",
    "        return 'College/University'\n",
    "    elif x == 'Immeuble à logements multiples':\n",
    "        return 'Multifamily Housing'\n",
    "    elif x == 'Bureau':\n",
    "        return 'Office'\n",
    "    elif x == 'Résidence/dortoir':\n",
    "        return 'Residence Hall/Dormitory'\n",
    "    elif x == 'Autre':\n",
    "        return 'Other'\n",
    "    elif x == 'Lieu de culte':\n",
    "        return 'Worship Facility'\n",
    "    elif x == 'Autre - Éducation':\n",
    "        return 'Other - Education'\n",
    "    elif x == 'Hôtel':\n",
    "        return 'Hotel'\n",
    "    elif x == 'Résidence pour personnes âgées':\n",
    "        return 'Senior Care Community'\n",
    "    elif x == 'Entreposage libre-service':\n",
    "        return 'Self-Storage Facility'\n",
    "    elif x == 'Entrepôt non réfrigéré':\n",
    "        return 'Non-Refrigerated Warehouse'\n",
    "    elif x == 'Supermarché/épicerie':\n",
    "        return 'Supermarket/Grocery Store'\n",
    "    elif x == 'Propriété à usage mixte':\n",
    "        return 'Mixed Use Property'\n",
    "    elif x == 'Commerce de détail':\n",
    "        return 'Retail Store'\n",
    "    elif x == 'Entrepôt réfrigéré':\n",
    "        return 'Refrigerated Warehouse'\n",
    "    elif x == 'Centre des arts de la scène':\n",
    "        return 'Performing Arts'\n",
    "    elif x == 'Patinoire/piste de curling':\n",
    "        return 'Ice/Curling Rink'\n",
    "    elif x == 'Autre - Divertissement/Rassemblement public':\n",
    "        return 'Other - Entertainment/Public Assembly'\n",
    "    elif x == 'Hôpital (soins médicaux et chirurgicaux)':\n",
    "        return 'Hospital (General Medical & Surgical)'\n",
    "    elif x == 'Usine de fabrication/industrie':\n",
    "        return 'Manufacturing/Industrial Plant'\n",
    "    else:\n",
    "        return x\n",
    "\n",
    "df['Primary Property Type - Self Selected'] = df['Primary Property Type - Self Selected'].map(use_cleanup)\n",
    "dfx['Primary Property Type - Self Selected'] = dfx['Primary Property Type - Self Selected'].map(use_cleanup)"
   ]
  },
  {
   "cell_type": "markdown",
   "metadata": {},
   "source": [
    "For this model we only want to look at buildings that have active electricity usage so any building with no usage is removed. Also, outliers more than 3.5 standard deviations from mean for electricity use are also removed."
   ]
  },
  {
   "cell_type": "code",
   "execution_count": 24,
   "metadata": {},
   "outputs": [],
   "source": [
    "before_drop_count = dfx.shape[0]\n",
    "dfx = dfx[dfx['Electricity Use - Grid Purchase (kWh)'] > 0]\n",
    "after_zero_drop = dfx.shape[0]\n",
    "dfx = dfx[(np.abs(stats.zscore(dfx['Electricity Use - Grid Purchase (kWh)'])) < 3.5)]"
   ]
  },
  {
   "cell_type": "code",
   "execution_count": 25,
   "metadata": {},
   "outputs": [
    {
     "name": "stdout",
     "output_type": "stream",
     "text": [
      "Building Count Before Drop: 22681\n",
      "Building Count After Zero Drop: 20831\n",
      "Building Count After Drop: 20610\n",
      "% Outlier Drop: 1.1\n"
     ]
    }
   ],
   "source": [
    "print('Building Count Before Drop:',before_drop_count)\n",
    "print('Building Count After Zero Drop:',after_zero_drop)\n",
    "print('Building Count After Drop:',dfx.shape[0])\n",
    "print('% Outlier Drop:',round((1-dfx.shape[0]/after_zero_drop)*100,1))"
   ]
  },
  {
   "cell_type": "markdown",
   "metadata": {},
   "source": [
    "Train/Test Split"
   ]
  },
  {
   "cell_type": "code",
   "execution_count": 26,
   "metadata": {},
   "outputs": [],
   "source": [
    "X_train,X_test,y_train,y_test = train_test_split(dfx.drop(['Electricity Use - Grid Purchase (kWh)'],axis=1),dfx[['Electricity Use - Grid Purchase (kWh)']],random_state=42)"
   ]
  },
  {
   "cell_type": "markdown",
   "metadata": {},
   "source": [
    "Imputing EnergyStar Scores. The mean is used as the filler which is ~50. A building with a score of 50 is a median performing building compared to it's peers (Neither energy efficient or poor performing)."
   ]
  },
  {
   "cell_type": "code",
   "execution_count": 27,
   "metadata": {},
   "outputs": [],
   "source": [
    "X_train.reset_index(inplace=True,drop=True)\n",
    "X_test.reset_index(inplace=True,drop=True)\n",
    "y_train.reset_index(inplace=True,drop=True)\n",
    "y_test.reset_index(inplace=True,drop=True)\n",
    "\n",
    "df_train = pd.concat([X_train,y_train],axis=1)\n",
    "df_test = pd.concat([X_test,y_test],axis=1)\n",
    "\n",
    "si = SimpleImputer()\n",
    "\n",
    "df_train['ENERGY STAR Score'] = si.fit_transform(df_train[['ENERGY STAR Score']])\n",
    "df_train['ENERGY STAR Score'] = si.transform(df_train[['ENERGY STAR Score']])\n",
    "\n",
    "df_train.dropna(inplace=True)\n",
    "df_test.dropna(inplace=True)\n",
    "\n",
    "X_train = df_train.drop('Electricity Use - Grid Purchase (kWh)',axis=1)\n",
    "X_test = df_test.drop('Electricity Use - Grid Purchase (kWh)',axis=1)\n",
    "y_train = df_train['Electricity Use - Grid Purchase (kWh)']\n",
    "y_test = df_test['Electricity Use - Grid Purchase (kWh)']"
   ]
  },
  {
   "cell_type": "markdown",
   "metadata": {},
   "source": [
    "One Hot Encoding the Primary Use Input Variable. There are more than 60 unique primary uses."
   ]
  },
  {
   "cell_type": "code",
   "execution_count": 28,
   "metadata": {},
   "outputs": [],
   "source": [
    "ohe = OneHotEncoder(handle_unknown='ignore')\n",
    "\n",
    "ohe_train_array = ohe.fit_transform(X_train[['Primary Property Type - Self Selected']])\n",
    "ohe_train_df = pd.DataFrame(ohe_train_array.todense(),columns=[name[3:] for name in ohe.get_feature_names()])\n",
    "\n",
    "ohe_test_array = ohe.transform(X_test[['Primary Property Type - Self Selected']])\n",
    "ohe_test_df = pd.DataFrame(ohe_test_array.todense(),columns=[name[3:] for name in ohe.get_feature_names()])\n",
    "\n",
    "X_train.reset_index(inplace=True,drop=True)\n",
    "X_train_ohe = pd.concat([X_train,ohe_train_df],axis=1)\n",
    "X_train_ohe.drop(['Primary Property Type - Self Selected'],axis=1,inplace=True)\n",
    "\n",
    "X_test.reset_index(inplace=True,drop=True)\n",
    "X_test_ohe = pd.concat([X_test,ohe_test_df],axis=1)\n",
    "X_test_ohe.drop(['Primary Property Type - Self Selected'],axis=1,inplace=True)"
   ]
  },
  {
   "cell_type": "code",
   "execution_count": 29,
   "metadata": {},
   "outputs": [
    {
     "name": "stdout",
     "output_type": "stream",
     "text": [
      "Number of Features Pre OHE: 5\n",
      "Number of Features Post OHE: 68\n"
     ]
    }
   ],
   "source": [
    "print('Number of Features Pre OHE:',X_train.shape[1])\n",
    "print('Number of Features Post OHE:',X_train_ohe.shape[1])"
   ]
  },
  {
   "cell_type": "markdown",
   "metadata": {},
   "source": [
    "## Modeling"
   ]
  },
  {
   "cell_type": "markdown",
   "metadata": {},
   "source": [
    "### Simple Model"
   ]
  },
  {
   "cell_type": "markdown",
   "metadata": {},
   "source": [
    "For the initial model linear regression is chosen as determining feature importance is a significant part of this evaluation and to make recommendations. For performance metrics, both Rsquared score (how much of the variability in annual electricity usage is explained) and RMSE are looked at with RMSE being the primary metric (how well can annual electricity usage be predicted)."
   ]
  },
  {
   "cell_type": "code",
   "execution_count": 30,
   "metadata": {},
   "outputs": [
    {
     "name": "stdout",
     "output_type": "stream",
     "text": [
      "Linear Regression Test R²: 0.6682202068525991\n"
     ]
    }
   ],
   "source": [
    "lr = LinearRegression()\n",
    "lr.fit(X_train_ohe,y_train)\n",
    "print('Linear Regression Test R²:',lr.score(X_test_ohe,y_test))"
   ]
  },
  {
   "cell_type": "code",
   "execution_count": 31,
   "metadata": {},
   "outputs": [
    {
     "name": "stdout",
     "output_type": "stream",
     "text": [
      "Linear Regression Test RMSE: 940211.2359823538\n"
     ]
    }
   ],
   "source": [
    "print('Linear Regression Test RMSE:',np.sqrt(mean_squared_error(y_test,lr.predict(X_test_ohe))))"
   ]
  },
  {
   "cell_type": "markdown",
   "metadata": {},
   "source": [
    "### Simple Model Evaluation"
   ]
  },
  {
   "cell_type": "markdown",
   "metadata": {},
   "source": [
    "#### Checking Normal Distribution of Input Variables"
   ]
  },
  {
   "cell_type": "code",
   "execution_count": 32,
   "metadata": {},
   "outputs": [
    {
     "data": {
      "text/plain": [
       "array([<AxesSubplot:ylabel='Density'>, <AxesSubplot:ylabel='Density'>,\n",
       "       <AxesSubplot:ylabel='Density'>], dtype=object)"
      ]
     },
     "execution_count": 32,
     "metadata": {},
     "output_type": "execute_result"
    },
    {
     "data": {
      "image/png": "[encoded data removed]",
      "text/plain": [
       "<Figure size 432x288 with 3 Axes>"
      ]
     },
     "metadata": {
      "needs_background": "light"
     },
     "output_type": "display_data"
    }
   ],
   "source": [
    "X_train_ohe.filter(['Largest Property Use Type - Gross Floor Area (ft²)','Year Built','ENERGY STAR Score'],axis=1).plot.kde(subplots=True,sharex=False)"
   ]
  },
  {
   "cell_type": "markdown",
   "metadata": {},
   "source": [
    "#### Checking Normal Distribution of Residuals"
   ]
  },
  {
   "cell_type": "code",
   "execution_count": 33,
   "metadata": {},
   "outputs": [
    {
     "data": {
      "image/png": "[encoded data removed]",
      "text/plain": [
       "<Figure size 432x288 with 1 Axes>"
      ]
     },
     "metadata": {
      "needs_background": "light"
     },
     "output_type": "display_data"
    }
   ],
   "source": [
    "qqplot(y_test-lr.predict(X_test_ohe),line='r')\n",
    "plt.show()"
   ]
  },
  {
   "cell_type": "markdown",
   "metadata": {},
   "source": [
    "#### Checking for Heteroskedasticity of Residuals"
   ]
  },
  {
   "cell_type": "code",
   "execution_count": 34,
   "metadata": {},
   "outputs": [
    {
     "data": {
      "image/png": "[encoded data removed]",
      "text/plain": [
       "<Figure size 432x288 with 1 Axes>"
      ]
     },
     "metadata": {
      "needs_background": "light"
     },
     "output_type": "display_data"
    }
   ],
   "source": [
    "plt.scatter(lr.predict(X_test_ohe), y_test-lr.predict(X_test_ohe), label='Test')\n",
    "plt.scatter(lr.predict(X_train_ohe), y_train-lr.predict(X_train_ohe), label='Train')\n",
    "\n",
    "plt.axhline(y=0, color = 'red', label = '0')\n",
    "plt.xlabel('predictions')\n",
    "plt.ylabel('residuals')\n",
    "plt.legend()\n",
    "plt.show()"
   ]
  },
  {
   "cell_type": "markdown",
   "metadata": {},
   "source": [
    "#### Checking Multicollinearity of Input Variables"
   ]
  },
  {
   "cell_type": "code",
   "execution_count": 35,
   "metadata": {},
   "outputs": [
    {
     "data": {
      "text/plain": [
       "<AxesSubplot:>"
      ]
     },
     "execution_count": 35,
     "metadata": {},
     "output_type": "execute_result"
    },
    {
     "data": {
      "image/png": "[encoded data removed]",
      "text/plain": [
       "<Figure size 432x288 with 2 Axes>"
      ]
     },
     "metadata": {
      "needs_background": "light"
     },
     "output_type": "display_data"
    }
   ],
   "source": [
    "sns.heatmap(X_train.corr(),annot=True)"
   ]
  },
  {
   "cell_type": "markdown",
   "metadata": {},
   "source": [
    "Residuals show a visible pattern for heteroskedasticity test. Q-Q plot shows residuals are also not normally distributed. Based on the above assumption checks, linear regression does not appear to be the best choice."
   ]
  },
  {
   "cell_type": "markdown",
   "metadata": {},
   "source": [
    "### Final Model"
   ]
  },
  {
   "cell_type": "markdown",
   "metadata": {},
   "source": [
    "The next model chosen is a Decision Tree Regressor as the data fails to pass linear regression assumptions. This model performs worse than the linear regression model based on RMSE most likely due to overfitting. For the final model a Random Forest Regressor is chosen."
   ]
  },
  {
   "cell_type": "code",
   "execution_count": 36,
   "metadata": {},
   "outputs": [],
   "source": [
    "rfr = RandomForestRegressor()"
   ]
  },
  {
   "cell_type": "markdown",
   "metadata": {},
   "source": [
    "#### Recursive Feature Elimination to reduce feature count\n",
    "\n",
    "Originally this is run iteratively to identify where the returns on model performance plateau (<0.01 metric increase) out when features are added. 30 features ends up being an ideal choice."
   ]
  },
  {
   "cell_type": "code",
   "execution_count": 37,
   "metadata": {},
   "outputs": [
    {
     "data": {
      "text/plain": [
       "RFE(estimator=RandomForestRegressor(), n_features_to_select=30)"
      ]
     },
     "execution_count": 37,
     "metadata": {},
     "output_type": "execute_result"
    }
   ],
   "source": [
    "rfe = RFE(rfr,n_features_to_select=30)\n",
    "rfe.fit(X_train_ohe,y_train)"
   ]
  },
  {
   "cell_type": "code",
   "execution_count": 38,
   "metadata": {},
   "outputs": [],
   "source": [
    "# final_list = ['Largest Property Use Type - Gross Floor Area (ft²)', 'Year Built', 'ENERGY STAR Score', 'ENERGY STAR Certification - Eligibility', 'College/University', 'Data Center', 'Distribution Center', 'Financial Office', 'Hospital (General Medical & Surgical)', 'Hotel', 'K-12 School', 'Laboratory', 'Manufacturing/Industrial Plant', 'Medical Office', 'Mixed Use Property', 'Multifamily Housing', 'Non-Refrigerated Warehouse', 'Office', 'Other', 'Other - Entertainment/Public Assembly', 'Other - Specialty Hospital', 'Parking', 'Prison/Incarceration', 'Residence Hall/Dormitory', 'Retail Store', 'Self-Storage Facility', 'Strip Mall', 'Supermarket/Grocery Store', 'Urgent Care/Clinic/Other Outpatient', 'Wastewater Treatment Plant']"
   ]
  },
  {
   "cell_type": "code",
   "execution_count": 39,
   "metadata": {},
   "outputs": [],
   "source": [
    "keep_list = [(k,v) for k,v in zip(X_train_ohe.columns,rfe.support_)]\n",
    "keep_string = ''\n",
    "for k,v in keep_list:\n",
    "    if v:\n",
    "        keep_string += k + '+'\n",
    "keep_string = keep_string[:-1]\n",
    "final_list = [ x[0] for x in keep_list if x[1] ]"
   ]
  },
  {
   "cell_type": "code",
   "execution_count": 40,
   "metadata": {},
   "outputs": [
    {
     "data": {
      "text/plain": [
       "RandomForestRegressor()"
      ]
     },
     "execution_count": 40,
     "metadata": {},
     "output_type": "execute_result"
    }
   ],
   "source": [
    "rfr.fit(X_train_ohe.filter(final_list),y_train)"
   ]
  },
  {
   "cell_type": "markdown",
   "metadata": {},
   "source": [
    "#### GridSearch to identify best performing parameters"
   ]
  },
  {
   "cell_type": "code",
   "execution_count": 41,
   "metadata": {},
   "outputs": [
    {
     "data": {
      "text/plain": [
       "{'max_depth': 100, 'min_samples_split': 14, 'n_estimators': 270}"
      ]
     },
     "execution_count": 41,
     "metadata": {},
     "output_type": "execute_result"
    }
   ],
   "source": [
    "params = {'n_estimators':np.linspace(10,400,num=10,dtype=int),\n",
    "          'max_depth': np.linspace(1,100,num=5,dtype=int),\n",
    "          'min_samples_split': np.linspace(2,50,num=5,dtype=int)}\n",
    "gs = GridSearchCV(rfr,params)\n",
    "gs.fit(X_train_ohe,y_train)\n",
    "gs.best_params_"
   ]
  },
  {
   "cell_type": "code",
   "execution_count": 51,
   "metadata": {},
   "outputs": [],
   "source": [
    "best_params = {'max_depth': 100, 'min_samples_split': 14, 'n_estimators': 270}"
   ]
  },
  {
   "cell_type": "code",
   "execution_count": 52,
   "metadata": {},
   "outputs": [
    {
     "data": {
      "text/plain": [
       "RandomForestRegressor(max_depth=100, min_samples_split=14, n_estimators=270)"
      ]
     },
     "execution_count": 52,
     "metadata": {},
     "output_type": "execute_result"
    }
   ],
   "source": [
    "rfr = RandomForestRegressor(max_depth=best_params['max_depth'],min_samples_split=best_params['min_samples_split'],n_estimators=best_params['n_estimators'])\n",
    "rfr.fit(X_train_ohe.filter(final_list),y_train)"
   ]
  },
  {
   "cell_type": "markdown",
   "metadata": {},
   "source": [
    "Cross Validation to check for overfitting."
   ]
  },
  {
   "cell_type": "code",
   "execution_count": 53,
   "metadata": {},
   "outputs": [
    {
     "data": {
      "text/plain": [
       "array([0.78967735, 0.80284851, 0.75922332, 0.8026217 , 0.77792711])"
      ]
     },
     "execution_count": 53,
     "metadata": {},
     "output_type": "execute_result"
    }
   ],
   "source": [
    "cross_val_score(rfr,X_train_ohe.filter(final_list),y_train)"
   ]
  },
  {
   "cell_type": "markdown",
   "metadata": {},
   "source": [
    "Performance On Test Data"
   ]
  },
  {
   "cell_type": "code",
   "execution_count": 54,
   "metadata": {},
   "outputs": [
    {
     "data": {
      "text/plain": [
       "0.8595734446929456"
      ]
     },
     "execution_count": 54,
     "metadata": {},
     "output_type": "execute_result"
    }
   ],
   "source": [
    "rfr.score(X_test_ohe.filter(final_list),y_test)"
   ]
  },
  {
   "cell_type": "code",
   "execution_count": 55,
   "metadata": {},
   "outputs": [
    {
     "name": "stdout",
     "output_type": "stream",
     "text": [
      "RMSE Train Data: 528887.0\n",
      "RMSE Test Data: 611681.0\n"
     ]
    }
   ],
   "source": [
    "y_hat_train = rfr.predict(X_train_ohe.filter(final_list))\n",
    "print('RMSE Train Data:',round(np.sqrt(mean_squared_error(y_train,y_hat_train))))\n",
    "y_hat_test = rfr.predict(X_test_ohe.filter(final_list))\n",
    "print('RMSE Test Data:',round(np.sqrt(mean_squared_error(y_test,y_hat_test))))"
   ]
  },
  {
   "cell_type": "code",
   "execution_count": 56,
   "metadata": {},
   "outputs": [
    {
     "data": {
      "text/html": [
       "<div>\n",
       "<style scoped>\n",
       "    .dataframe tbody tr th:only-of-type {\n",
       "        vertical-align: middle;\n",
       "    }\n",
       "\n",
       "    .dataframe tbody tr th {\n",
       "        vertical-align: top;\n",
       "    }\n",
       "\n",
       "    .dataframe thead th {\n",
       "        text-align: right;\n",
       "    }\n",
       "</style>\n",
       "<table border=\"1\" class=\"dataframe\">\n",
       "  <thead>\n",
       "    <tr style=\"text-align: right;\">\n",
       "      <th></th>\n",
       "      <th>Electricity Use - Grid Purchase (kWh)</th>\n",
       "    </tr>\n",
       "  </thead>\n",
       "  <tbody>\n",
       "    <tr>\n",
       "      <th>count</th>\n",
       "      <td>2.061000e+04</td>\n",
       "    </tr>\n",
       "    <tr>\n",
       "      <th>mean</th>\n",
       "      <td>9.752697e+05</td>\n",
       "    </tr>\n",
       "    <tr>\n",
       "      <th>std</th>\n",
       "      <td>1.704314e+06</td>\n",
       "    </tr>\n",
       "    <tr>\n",
       "      <th>min</th>\n",
       "      <td>1.200000e+01</td>\n",
       "    </tr>\n",
       "    <tr>\n",
       "      <th>25%</th>\n",
       "      <td>2.164623e+05</td>\n",
       "    </tr>\n",
       "    <tr>\n",
       "      <th>50%</th>\n",
       "      <td>3.993497e+05</td>\n",
       "    </tr>\n",
       "    <tr>\n",
       "      <th>75%</th>\n",
       "      <td>9.134812e+05</td>\n",
       "    </tr>\n",
       "    <tr>\n",
       "      <th>max</th>\n",
       "      <td>1.536148e+07</td>\n",
       "    </tr>\n",
       "  </tbody>\n",
       "</table>\n",
       "</div>"
      ],
      "text/plain": [
       "       Electricity Use - Grid Purchase (kWh)\n",
       "count                           2.061000e+04\n",
       "mean                            9.752697e+05\n",
       "std                             1.704314e+06\n",
       "min                             1.200000e+01\n",
       "25%                             2.164623e+05\n",
       "50%                             3.993497e+05\n",
       "75%                             9.134812e+05\n",
       "max                             1.536148e+07"
      ]
     },
     "execution_count": 56,
     "metadata": {},
     "output_type": "execute_result"
    }
   ],
   "source": [
    "dfx[['Electricity Use - Grid Purchase (kWh)']].describe()"
   ]
  },
  {
   "cell_type": "markdown",
   "metadata": {},
   "source": [
    "## Findings"
   ]
  },
  {
   "cell_type": "markdown",
   "metadata": {},
   "source": [
    "#### Feature Importance\n",
    "\n",
    "Floor square footage was by far the most important feature based on impurity change per tree node followed by energy efficiency and primary uses."
   ]
  },
  {
   "cell_type": "code",
   "execution_count": 66,
   "metadata": {},
   "outputs": [
    {
     "data": {
      "text/html": [
       "<div>\n",
       "<style scoped>\n",
       "    .dataframe tbody tr th:only-of-type {\n",
       "        vertical-align: middle;\n",
       "    }\n",
       "\n",
       "    .dataframe tbody tr th {\n",
       "        vertical-align: top;\n",
       "    }\n",
       "\n",
       "    .dataframe thead th {\n",
       "        text-align: right;\n",
       "    }\n",
       "</style>\n",
       "<table border=\"1\" class=\"dataframe\">\n",
       "  <thead>\n",
       "    <tr style=\"text-align: right;\">\n",
       "      <th></th>\n",
       "      <th>Importance by Impurity Change</th>\n",
       "      <th>Feature</th>\n",
       "    </tr>\n",
       "  </thead>\n",
       "  <tbody>\n",
       "    <tr>\n",
       "      <th>0</th>\n",
       "      <td>0.693246</td>\n",
       "      <td>Largest Property Use Type - Gross Floor Area (...</td>\n",
       "    </tr>\n",
       "    <tr>\n",
       "      <th>1</th>\n",
       "      <td>0.097696</td>\n",
       "      <td>ENERGY STAR Score</td>\n",
       "    </tr>\n",
       "    <tr>\n",
       "      <th>2</th>\n",
       "      <td>0.063299</td>\n",
       "      <td>Multifamily Housing</td>\n",
       "    </tr>\n",
       "    <tr>\n",
       "      <th>3</th>\n",
       "      <td>0.049525</td>\n",
       "      <td>Year Built</td>\n",
       "    </tr>\n",
       "    <tr>\n",
       "      <th>4</th>\n",
       "      <td>0.037739</td>\n",
       "      <td>Office</td>\n",
       "    </tr>\n",
       "    <tr>\n",
       "      <th>5</th>\n",
       "      <td>0.010108</td>\n",
       "      <td>K-12 School</td>\n",
       "    </tr>\n",
       "    <tr>\n",
       "      <th>6</th>\n",
       "      <td>0.004839</td>\n",
       "      <td>Hospital (General Medical &amp; Surgical)</td>\n",
       "    </tr>\n",
       "    <tr>\n",
       "      <th>7</th>\n",
       "      <td>0.004258</td>\n",
       "      <td>Mixed Use Property</td>\n",
       "    </tr>\n",
       "    <tr>\n",
       "      <th>8</th>\n",
       "      <td>0.004217</td>\n",
       "      <td>Parking</td>\n",
       "    </tr>\n",
       "    <tr>\n",
       "      <th>9</th>\n",
       "      <td>0.003117</td>\n",
       "      <td>Supermarket/Grocery Store</td>\n",
       "    </tr>\n",
       "    <tr>\n",
       "      <th>10</th>\n",
       "      <td>0.002793</td>\n",
       "      <td>Laboratory</td>\n",
       "    </tr>\n",
       "    <tr>\n",
       "      <th>11</th>\n",
       "      <td>0.002667</td>\n",
       "      <td>Strip Mall</td>\n",
       "    </tr>\n",
       "    <tr>\n",
       "      <th>12</th>\n",
       "      <td>0.002519</td>\n",
       "      <td>Data Center</td>\n",
       "    </tr>\n",
       "    <tr>\n",
       "      <th>13</th>\n",
       "      <td>0.002357</td>\n",
       "      <td>College/University</td>\n",
       "    </tr>\n",
       "    <tr>\n",
       "      <th>14</th>\n",
       "      <td>0.002082</td>\n",
       "      <td>Non-Refrigerated Warehouse</td>\n",
       "    </tr>\n",
       "    <tr>\n",
       "      <th>15</th>\n",
       "      <td>0.002050</td>\n",
       "      <td>Retail Store</td>\n",
       "    </tr>\n",
       "    <tr>\n",
       "      <th>16</th>\n",
       "      <td>0.001870</td>\n",
       "      <td>Urgent Care/Clinic/Other Outpatient</td>\n",
       "    </tr>\n",
       "    <tr>\n",
       "      <th>17</th>\n",
       "      <td>0.001774</td>\n",
       "      <td>Other</td>\n",
       "    </tr>\n",
       "    <tr>\n",
       "      <th>18</th>\n",
       "      <td>0.001761</td>\n",
       "      <td>Other - Entertainment/Public Assembly</td>\n",
       "    </tr>\n",
       "    <tr>\n",
       "      <th>19</th>\n",
       "      <td>0.001735</td>\n",
       "      <td>Hotel</td>\n",
       "    </tr>\n",
       "  </tbody>\n",
       "</table>\n",
       "</div>"
      ],
      "text/plain": [
       "    Importance by Impurity Change  \\\n",
       "0                        0.693246   \n",
       "1                        0.097696   \n",
       "2                        0.063299   \n",
       "3                        0.049525   \n",
       "4                        0.037739   \n",
       "5                        0.010108   \n",
       "6                        0.004839   \n",
       "7                        0.004258   \n",
       "8                        0.004217   \n",
       "9                        0.003117   \n",
       "10                       0.002793   \n",
       "11                       0.002667   \n",
       "12                       0.002519   \n",
       "13                       0.002357   \n",
       "14                       0.002082   \n",
       "15                       0.002050   \n",
       "16                       0.001870   \n",
       "17                       0.001774   \n",
       "18                       0.001761   \n",
       "19                       0.001735   \n",
       "\n",
       "                                              Feature  \n",
       "0   Largest Property Use Type - Gross Floor Area (...  \n",
       "1                                   ENERGY STAR Score  \n",
       "2                                 Multifamily Housing  \n",
       "3                                          Year Built  \n",
       "4                                              Office  \n",
       "5                                         K-12 School  \n",
       "6               Hospital (General Medical & Surgical)  \n",
       "7                                  Mixed Use Property  \n",
       "8                                             Parking  \n",
       "9                           Supermarket/Grocery Store  \n",
       "10                                         Laboratory  \n",
       "11                                         Strip Mall  \n",
       "12                                        Data Center  \n",
       "13                                 College/University  \n",
       "14                         Non-Refrigerated Warehouse  \n",
       "15                                       Retail Store  \n",
       "16                Urgent Care/Clinic/Other Outpatient  \n",
       "17                                              Other  \n",
       "18              Other - Entertainment/Public Assembly  \n",
       "19                                              Hotel  "
      ]
     },
     "execution_count": 66,
     "metadata": {},
     "output_type": "execute_result"
    }
   ],
   "source": [
    "features = [(x,y) for x,y in zip(rfr.feature_importances_,final_list)]\n",
    "features.sort(key=lambda x: x[0],reverse=True)\n",
    "df_feat = pd.DataFrame(features, columns = ['Importance by Impurity Change','Feature'])\n",
    "df_feat.head(20)"
   ]
  },
  {
   "cell_type": "markdown",
   "metadata": {},
   "source": [
    "The final model is able to predict a building's annual electricity usage from the grid to within 612,000 kW h. The standard deviation of the dataset is 1,700,000 kW h."
   ]
  },
  {
   "cell_type": "markdown",
   "metadata": {},
   "source": [
    "#### Visualizing Top Energy Users"
   ]
  },
  {
   "cell_type": "code",
   "execution_count": 64,
   "metadata": {},
   "outputs": [
    {
     "data": {
      "image/png": "[encoded data removed]",
      "text/plain": [
       "<Figure size 1800x720 with 1 Axes>"
      ]
     },
     "metadata": {
      "needs_background": "light"
     },
     "output_type": "display_data"
    }
   ],
   "source": [
    "plt.rcParams['xtick.labelsize'] = 15\n",
    "plt.rcParams['ytick.labelsize'] = 15\n",
    "plt.rcParams['axes.labelsize'] = 20\n",
    "\n",
    "def change_ent(x):\n",
    "    if x == 'Hospital (General Medical & Surgical)':\n",
    "        return 'Hospital'\n",
    "    elif x == 'Refrigerated Warehouse':\n",
    "        return 'Ref Warehouse'\n",
    "    elif x == 'Non-Refrigerated Warehouse':\n",
    "        return 'Non-Ref Warehouse'\n",
    "    elif x == 'Wastewater Treatment Plant':\n",
    "        return 'Wastewater Plant'\n",
    "    elif x == 'Ambulatory Surgical Center':\n",
    "        return 'Surgical Center'\n",
    "    else:\n",
    "        return x\n",
    "\n",
    "dfx['Primary Property Type - Self Selected'] = dfx['Primary Property Type - Self Selected'].map(change_ent)\n",
    "\n",
    "dfx.groupby('Primary Property Type - Self Selected').mean()[['Electricity Use - Grid Purchase (kWh)']].sort_values('Electricity Use - Grid Purchase (kWh)',ascending=False)[:5].plot(kind='bar',rot=0,xlabel='Primary Use',ylabel='Average Annual Energy Use (1 million kW h)',figsize=(25,10),color=['orangered','orange'])\n",
    "plt.show()"
   ]
  },
  {
   "cell_type": "markdown",
   "metadata": {},
   "source": [
    "The top energy users fall into categories that typically have large square footage buildings and contain energy intensive processes."
   ]
  },
  {
   "cell_type": "code",
   "execution_count": 65,
   "metadata": {},
   "outputs": [
    {
     "data": {
      "image/png": "[encoded data removed]",
      "text/plain": [
       "<Figure size 1440x720 with 1 Axes>"
      ]
     },
     "metadata": {
      "needs_background": "light"
     },
     "output_type": "display_data"
    }
   ],
   "source": [
    "efficiency_list = []\n",
    "# for x in dfx.value_counts('Primary Property Type - Self Selected').index:\n",
    "#     temp_df = pd.DataFrame()\n",
    "#     temp_df = dfx[dfx['Primary Property Type - Self Selected'] == x]\n",
    "#     efficiency_list.append((x,temp_df['ENERGY STAR Certification - Eligibility'].sum()/temp_df.shape[0]*100))\n",
    "\n",
    "df['Primary Property Type - Self Selected'] = df['Primary Property Type - Self Selected'].map(change_ent)\n",
    "\n",
    "for x in df.value_counts('Primary Property Type - Self Selected').index:\n",
    "    temp_df = pd.DataFrame()\n",
    "    temp_df = df[df['Primary Property Type - Self Selected'] == x].drop_duplicates('Property Id')\n",
    "    temp_df['ENERGY STAR Certification - Eligibility'] = temp_df['ENERGY STAR Certification - Eligibility'].map(energystar)\n",
    "    efficiency_list.append((x,temp_df['ENERGY STAR Certification - Eligibility'].sum()/temp_df.shape[0]*100))\n",
    "\n",
    "efficiency_list.sort(key=lambda x: x[1],reverse=True)\n",
    "\n",
    "final_effic_list = efficiency_list[:6]\n",
    "\n",
    "# final_effic_list = [('Office', 14.878892733564014), ('Bank Branch', 14.285714285714285), ('Refrigerated Warehouse', 12.5), ('Distribution Center', 10.989010989010989), ('Non-Refrigerated Warehouse', 8.02919708029197), ('Multifamily Housing', 6.050864409201314), ('Hospital (General Medical & Surgical)', 5.405405405405405)]\n",
    "\n",
    "fig,ax = plt.subplots(figsize=(20,10))\n",
    "\n",
    "ax.bar(x=[x[0] for x in final_effic_list],height=[y[1] for y in final_effic_list],color=['orangered','orange'])\n",
    "ax.set(xlabel=\"Primary Use\")\n",
    "ax.set(ylabel=\"Percent of Buildings Eligible for Energy Saving Rebates\")\n",
    "plt.xticks(rotation=0)\n",
    "plt.show()"
   ]
  },
  {
   "cell_type": "markdown",
   "metadata": {},
   "source": [
    "The above graph shows the top performing primary uses by percentage of buildings that qualify for Energy Credits (70th percentile for energy efficiency). Ambulatory Surgical Centers and Wastewater Treatment Plants, while being in the top for energy consumption are not present in the top performing primary uses."
   ]
  },
  {
   "cell_type": "markdown",
   "metadata": {},
   "source": [
    "## Recommendations"
   ]
  },
  {
   "cell_type": "markdown",
   "metadata": {},
   "source": [
    "- Focus energy efficiency incentive programs on high electricity use buildings that have the lowest percentage of energy credit qualifying buildings (Prisons, Surgical Centers, Wastewater Treatment Plants).\n",
    "- Forecast Citywide Annual Electricity Usage by making predictions using a targeted energy efficiency metric. For example predict electricity usage for buildings using a goal energy efficiency metric (i.e. 5% increase in energy efficiency) to determine potential efficiency savings."
   ]
  },
  {
   "cell_type": "markdown",
   "metadata": {},
   "source": [
    "## Future Research"
   ]
  },
  {
   "cell_type": "markdown",
   "metadata": {},
   "source": [
    "- Use sub-metering data in the model to include the exact energy use (HVAC,Lighting,Computers). For example, understanding which energy use by primary use of the building could help with creating more targeted incentive programs and recommended solutions.\n",
    "<br> <br />\n",
    "- Include building metadata on onsite electricity generation and engineered features such as:\n",
    "\n",
    "    * Has Solar? Yes/No\n",
    "    * Has COGEN? Yes/No\n",
    "<br> <br />\n",
    "- Incorporate weather data to show effects of seasonality on energy use"
   ]
  }
 ],
 "metadata": {
  "interpreter": {
   "hash": "7a3d059f376a9d0551670ac739dcc834dd342b8d7d90019c6bdbef463e084516"
  },
  "kernelspec": {
   "display_name": "Python 3.8.5 64-bit ('learn-env': conda)",
   "language": "python",
   "name": "python3"
  },
  "language_info": {
   "codemirror_mode": {
    "name": "ipython",
    "version": 3
   },
   "file_extension": ".py",
   "mimetype": "text/x-python",
   "name": "python",
   "nbconvert_exporter": "python",
   "pygments_lexer": "ipython3",
   "version": "3.8.5"
  },
  "orig_nbformat": 4
 },
 "nbformat": 4,
 "nbformat_minor": 2
}
