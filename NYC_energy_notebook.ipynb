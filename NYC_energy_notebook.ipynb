{
 "cells": [
  {
   "cell_type": "markdown",
   "metadata": {},
   "source": [
    "# Predicting Building Energy Use"
   ]
  },
  {
   "cell_type": "markdown",
   "metadata": {},
   "source": [
    "<img src=\"https://www.pikpng.com/pngl/m/152-1524338_overlay-city-drawing-easy-city-landscape-drawing-clipart.png\" alt=\"Overlay City Drawing - Easy City Landscape Drawing Clipart@pikpng.com\" class=\"center\">"
   ]
  },
  {
   "cell_type": "markdown",
   "metadata": {},
   "source": [
    "## Project Understanding and Technical Overview\n",
    "\n",
    "This notebook covers the modeling performed with the [NYC Open Data](https://data.cityofnewyork.us/Environment/Energy-and-Water-Data-Disclosure-for-Local-Law-84-/usc3-8zwd) dataset to predict annual electricity usage for buildings. The model uses building size, primary use and energy efficiency information to make a prediction on the annual electricity use. Identifying the important features in determining electricity use could help to inform energy credit programs that can incentivize energy abusers.\n",
    "\n",
    "The first simple model uses linear regression which produces an RMSE of 940 MWh. The final ensemble model is a Random Forest Regressor which produces an RMSE of 614 MWh. The average annual electricity usage for a building >50,000 sqft in NYC is 975 MWh +/- 1,700 MWh."
   ]
  },
  {
   "cell_type": "markdown",
   "metadata": {},
   "source": [
    "## Business Understanding\n",
    "\n",
    "Buildings account for 76% of all electricity use in the United States. This translates to 40% of total greenhouse gas emissions from baseline power (coal and oil). Over half of a buildings energy draw comes from environment control:\n",
    "\n",
    "* lighting\n",
    "* cooling\n",
    "* heating\n",
    "* ventilation\n",
    "* refrigeration\n",
    "\n",
    "<img src=\"images/piechart.png\" class=\"center\">\n",
    "\n",
    "New York State Energy Plan:\n",
    "\n",
    "*\"The State Energy Plan is a comprehensive roadmap to build a clean, resilient, and affordable energy system for all New Yorkers. The Plan coordinates every State agency and authority that touches energy to advance the REV agenda, unleashing groundbreaking regulatory reform to integrate clean energy into the core of our power grid, redesigning programs to unlock private capital, and actively deploying innovative energy solutions across the State’s own public facilities and operations.\"* ([EnergyPlan.NY.gov](https://energyplan.ny.gov/))\n",
    "\n",
    "The plan has the following goals for the state:\n",
    "\n",
    "* 40% reduction in greenhouse gas emissions from 1990 levels\n",
    "* 50% of energy generation from renewable energy sources\n",
    "* 600 trillion Btu increase in statewide energy efficiency\n",
    "\n",
    "Being able to predict the annual electricity usage of a building based on it's size, primary use and energy efficiency rating would allow for better municipal planning and could help with identifying buildings that over-consume. This would be ideal for planning city sustainability projects as energy consumption could be predicted based on a forecasted change in energy efficiency of buildings. Based on required energy reductions predicted by this model the state could tailor sustainability programs to incentivize building managers to increase energy efficiency (reduce energy consumption).\n",
    "\n"
   ]
  },
  {
   "cell_type": "markdown",
   "metadata": {},
   "source": [
    "## Data Understanding\n",
    "\n",
    "**Target Variable - Annual Electricity Usage:**\n",
    "\n",
    "Energy use is typically tracked in kWh (killowatt hours) or MWh (megawatt hours = 1,000 killowatt hours) using electric meters installed by a utility company. NYC's Local Law 87 requires that buildings over 50,000 sqft undergo energy audits which include accurate, annual reporting of energy usage. Over 30,000 buildings within New York City fall under this law.\n",
    "\n",
    "<img src=\"images/smart_meter.jpg\" class=\"center\">\n",
    "\n",
    "**Building Energy Efficiency:**\n",
    "\n",
    "A building's EnergyStar Score is a relative benchmark to other buildings of similar qualities. The higher the score the more energy efficient that building is. An EnergyStar Score of 50 is the median energy efficiency. In the state of New York, buildings above an EnergyStar Score of 70 are eligible for rebates through special state run programs.\n",
    "\n",
    "**Primary Use:**\n",
    "\n",
    "The primary use of a building is a general building classification. The top 5 classifications:\n",
    "1. Multifamily Housing\n",
    "2. Office\n",
    "3. K-12 School\n",
    "4. College/University\n",
    "5. Hotel"
   ]
  },
  {
   "cell_type": "markdown",
   "metadata": {},
   "source": [
    "## Data Exploration"
   ]
  },
  {
   "cell_type": "markdown",
   "metadata": {},
   "source": [
    "Below the necessary imports are loaded."
   ]
  },
  {
   "cell_type": "code",
   "execution_count": 99,
   "metadata": {},
   "outputs": [],
   "source": [
    "import pandas as pd\n",
    "import numpy as np\n",
    "import itertools\n",
    "\n",
    "import matplotlib.pyplot as plt\n",
    "import matplotlib.dates as mdates\n",
    "from matplotlib.dates import DateFormatter\n",
    "import seaborn as sns\n",
    "\n",
    "from sklearn.impute import SimpleImputer\n",
    "from sklearn.model_selection import train_test_split, cross_val_score, GridSearchCV\n",
    "from sklearn.preprocessing import StandardScaler, OneHotEncoder, LabelEncoder\n",
    "from sklearn.linear_model import LinearRegression\n",
    "from sklearn.feature_selection import RFE\n",
    "from sklearn.metrics import mean_squared_error, mean_squared_log_error\n",
    "from sklearn.ensemble import RandomForestRegressor, GradientBoostingRegressor\n",
    "\n",
    "from statsmodels.formula.api import ols\n",
    "from statsmodels.api import qqplot\n",
    "\n",
    "from scipy import stats"
   ]
  },
  {
   "cell_type": "markdown",
   "metadata": {},
   "source": [
    "The data comes from [NYC Open Data](https://data.cityofnewyork.us/Environment/Energy-and-Water-Data-Disclosure-for-Local-Law-84-/usc3-8zwd). The target column is the 'Electricity Use - Grid Purchase (kWh)'. Here, the dataset is read in and the used columns are filtered for."
   ]
  },
  {
   "cell_type": "code",
   "execution_count": 275,
   "metadata": {},
   "outputs": [
    {
     "name": "stderr",
     "output_type": "stream",
     "text": [
      "/opt/anaconda3/envs/learn-env/lib/python3.8/site-packages/IPython/core/interactiveshell.py:3145: DtypeWarning: Columns (14,31,32,111,113,127,206,236,237,238) have mixed types.Specify dtype option on import or set low_memory=False.\n",
      "  has_raised = await self.run_ast_nodes(code_ast.body, cell_name,\n"
     ]
    }
   ],
   "source": [
    "df = pd.read_csv('/Users/evanjays/Desktop/Programming/Flatiron/CAPSTONE/data_big/Energy_and_Water_Data_Disclosure_for_Local_Law_84_2018__Data_for_Calendar_Year_2017_.csv')"
   ]
  },
  {
   "cell_type": "code",
   "execution_count": 276,
   "metadata": {},
   "outputs": [],
   "source": [
    "dfx = df.filter(['Property Id','Primary Property Type - Self Selected','Largest Property Use Type - Gross Floor Area (ft²)','Year Built','ENERGY STAR Score','ENERGY STAR Certification - Eligibility','Electricity Use - Grid Purchase (kWh)']).copy(deep=True)"
   ]
  },
  {
   "cell_type": "markdown",
   "metadata": {},
   "source": [
    "Dropping Duplicate Buildings in dataset based on property id"
   ]
  },
  {
   "cell_type": "code",
   "execution_count": 277,
   "metadata": {},
   "outputs": [],
   "source": [
    "dfx.drop_duplicates('Property Id',inplace=True)"
   ]
  },
  {
   "cell_type": "code",
   "execution_count": 278,
   "metadata": {},
   "outputs": [
    {
     "name": "stdout",
     "output_type": "stream",
     "text": [
      "Starting Buildings Count: 34686 | Starting Columns Count: 256\n",
      "Buildings Count: 22681 | Feature Count: 5\n"
     ]
    }
   ],
   "source": [
    "dfx.drop('Property Id',axis=1,inplace=True)\n",
    "print('Starting Buildings Count:',df.shape[0],'|','Starting Columns Count:',df.shape[1])\n",
    "print('Buildings Count:',dfx.shape[0],'|','Feature Count:',dfx.shape[1]-1)"
   ]
  },
  {
   "cell_type": "markdown",
   "metadata": {},
   "source": [
    "## Data Cleaning"
   ]
  },
  {
   "cell_type": "markdown",
   "metadata": {},
   "source": [
    "Label encoding the EnergyStar Certification Eligibility column. Reminder - buildings who meet the eligibility have an EnergyStar Score of 70 or greater (in the top 30% of energy performance relative to similar buildings)."
   ]
  },
  {
   "cell_type": "code",
   "execution_count": 279,
   "metadata": {},
   "outputs": [],
   "source": [
    "def energystar(x):\n",
    "    if x == 'No':\n",
    "        return 0\n",
    "    else:\n",
    "        return 1\n",
    "\n",
    "dfx['ENERGY STAR Certification - Eligibility'] = dfx['ENERGY STAR Certification - Eligibility'].map(energystar)"
   ]
  },
  {
   "cell_type": "markdown",
   "metadata": {},
   "source": [
    "Renaming building primary uses to all be in English."
   ]
  },
  {
   "cell_type": "code",
   "execution_count": 280,
   "metadata": {},
   "outputs": [],
   "source": [
    "def use_cleanup(x):\n",
    "    if x == 'Collège/Université':\n",
    "        return 'College/University'\n",
    "    elif x == 'Immeuble à logements multiples':\n",
    "        return 'Multifamily Housing'\n",
    "    elif x == 'Bureau':\n",
    "        return 'Office'\n",
    "    elif x == 'Résidence/dortoir':\n",
    "        return 'Residence Hall/Dormitory'\n",
    "    elif x == 'Autre':\n",
    "        return 'Other'\n",
    "    elif x == 'Lieu de culte':\n",
    "        return 'Worship Facility'\n",
    "    elif x == 'Autre - Éducation':\n",
    "        return 'Other - Education'\n",
    "    elif x == 'Hôtel':\n",
    "        return 'Hotel'\n",
    "    elif x == 'Résidence pour personnes âgées':\n",
    "        return 'Senior Care Community'\n",
    "    elif x == 'Entreposage libre-service':\n",
    "        return 'Self-Storage Facility'\n",
    "    elif x == 'Entrepôt non réfrigéré':\n",
    "        return 'Non-Refrigerated Warehouse'\n",
    "    elif x == 'Supermarché/épicerie':\n",
    "        return 'Supermarket/Grocery Store'\n",
    "    elif x == 'Propriété à usage mixte':\n",
    "        return 'Mixed Use Property'\n",
    "    elif x == 'Commerce de détail':\n",
    "        return 'Retail Store'\n",
    "    elif x == 'Entrepôt réfrigéré':\n",
    "        return 'Refrigerated Warehouse'\n",
    "    elif x == 'Centre des arts de la scène':\n",
    "        return 'Performing Arts'\n",
    "    elif x == 'Patinoire/piste de curling':\n",
    "        return 'Ice/Curling Rink'\n",
    "    elif x == 'Autre - Divertissement/Rassemblement public':\n",
    "        return 'Other - Entertainment/Public Assembly'\n",
    "    elif x == 'Hôpital (soins médicaux et chirurgicaux)':\n",
    "        return 'Hospital (General Medical & Surgical)'\n",
    "    elif x == 'Usine de fabrication/industrie':\n",
    "        return 'Manufacturing/Industrial Plant'\n",
    "    else:\n",
    "        return x\n",
    "\n",
    "df['Primary Property Type - Self Selected'] = df['Primary Property Type - Self Selected'].map(use_cleanup)\n",
    "dfx['Primary Property Type - Self Selected'] = dfx['Primary Property Type - Self Selected'].map(use_cleanup)"
   ]
  },
  {
   "cell_type": "markdown",
   "metadata": {},
   "source": [
    "For this model we only want to look at buildings that have active electricity usage so any building with no usage is removed. Also, outliers more than 3.5 standard deviations from mean for electricity use are also removed."
   ]
  },
  {
   "cell_type": "code",
   "execution_count": 281,
   "metadata": {},
   "outputs": [],
   "source": [
    "before_drop_count = dfx.shape[0]\n",
    "dfx = dfx[dfx['Electricity Use - Grid Purchase (kWh)'] > 0]\n",
    "dfx = dfx[(np.abs(stats.zscore(dfx['Electricity Use - Grid Purchase (kWh)'])) < 3.5)]"
   ]
  },
  {
   "cell_type": "code",
   "execution_count": 282,
   "metadata": {},
   "outputs": [
    {
     "name": "stdout",
     "output_type": "stream",
     "text": [
      "Building Count Before Drop: 22681\n",
      "Building Count After Drop: 20610\n",
      "% Drop: 9.1\n"
     ]
    }
   ],
   "source": [
    "print('Building Count Before Drop:',before_drop_count)\n",
    "print('Building Count After Drop:',dfx.shape[0])\n",
    "print('% Drop:',round((1-dfx.shape[0]/before_drop_count)*100,1))"
   ]
  },
  {
   "cell_type": "markdown",
   "metadata": {},
   "source": [
    "Train/Test Split"
   ]
  },
  {
   "cell_type": "code",
   "execution_count": 283,
   "metadata": {},
   "outputs": [],
   "source": [
    "X_train,X_test,y_train,y_test = train_test_split(dfx.drop(['Electricity Use - Grid Purchase (kWh)'],axis=1),dfx[['Electricity Use - Grid Purchase (kWh)']],random_state=42)"
   ]
  },
  {
   "cell_type": "markdown",
   "metadata": {},
   "source": [
    "Imputing EnergyStar Scores"
   ]
  },
  {
   "cell_type": "code",
   "execution_count": 284,
   "metadata": {},
   "outputs": [],
   "source": [
    "X_train.reset_index(inplace=True,drop=True)\n",
    "X_test.reset_index(inplace=True,drop=True)\n",
    "y_train.reset_index(inplace=True,drop=True)\n",
    "y_test.reset_index(inplace=True,drop=True)\n",
    "\n",
    "df_train = pd.concat([X_train,y_train],axis=1)\n",
    "df_test = pd.concat([X_test,y_test],axis=1)\n",
    "\n",
    "si = SimpleImputer()\n",
    "\n",
    "df_train['ENERGY STAR Score'] = si.fit_transform(df_train[['ENERGY STAR Score']])\n",
    "df_train['ENERGY STAR Score'] = si.transform(df_train[['ENERGY STAR Score']])\n",
    "\n",
    "df_train.dropna(inplace=True)\n",
    "df_test.dropna(inplace=True)\n",
    "\n",
    "X_train = df_train.drop('Electricity Use - Grid Purchase (kWh)',axis=1)\n",
    "X_test = df_test.drop('Electricity Use - Grid Purchase (kWh)',axis=1)\n",
    "y_train = df_train['Electricity Use - Grid Purchase (kWh)']\n",
    "y_test = df_test['Electricity Use - Grid Purchase (kWh)']"
   ]
  },
  {
   "cell_type": "markdown",
   "metadata": {},
   "source": [
    "One Hot Encoding the Primary Use Input Variable. There are 86 unique building classifiers used in the training data."
   ]
  },
  {
   "cell_type": "code",
   "execution_count": 285,
   "metadata": {},
   "outputs": [],
   "source": [
    "ohe = OneHotEncoder(handle_unknown='ignore')\n",
    "\n",
    "ohe_train_array = ohe.fit_transform(X_train[['Primary Property Type - Self Selected']])\n",
    "ohe_train_df = pd.DataFrame(ohe_train_array.todense(),columns=[name[3:] for name in ohe.get_feature_names()])\n",
    "\n",
    "ohe_test_array = ohe.transform(X_test[['Primary Property Type - Self Selected']])\n",
    "ohe_test_df = pd.DataFrame(ohe_test_array.todense(),columns=[name[3:] for name in ohe.get_feature_names()])\n",
    "\n",
    "X_train.reset_index(inplace=True,drop=True)\n",
    "X_train_ohe = pd.concat([X_train,ohe_train_df],axis=1)\n",
    "X_train_ohe.drop(['Primary Property Type - Self Selected'],axis=1,inplace=True)\n",
    "\n",
    "X_test.reset_index(inplace=True,drop=True)\n",
    "X_test_ohe = pd.concat([X_test,ohe_test_df],axis=1)\n",
    "X_test_ohe.drop(['Primary Property Type - Self Selected'],axis=1,inplace=True)"
   ]
  },
  {
   "cell_type": "code",
   "execution_count": 286,
   "metadata": {},
   "outputs": [
    {
     "name": "stdout",
     "output_type": "stream",
     "text": [
      "Number of Features Pre OHE: 5\n",
      "Number of Features Post OHE: 68\n"
     ]
    }
   ],
   "source": [
    "print('Number of Features Pre OHE:',X_train.shape[1])\n",
    "print('Number of Features Post OHE:',X_train_ohe.shape[1])"
   ]
  },
  {
   "cell_type": "markdown",
   "metadata": {},
   "source": [
    "## Modeling"
   ]
  },
  {
   "cell_type": "markdown",
   "metadata": {},
   "source": [
    "### Simple Model"
   ]
  },
  {
   "cell_type": "markdown",
   "metadata": {},
   "source": [
    "For the initial model "
   ]
  },
  {
   "cell_type": "code",
   "execution_count": 287,
   "metadata": {},
   "outputs": [
    {
     "data": {
      "text/plain": [
       "0.6682202068525991"
      ]
     },
     "execution_count": 287,
     "metadata": {},
     "output_type": "execute_result"
    }
   ],
   "source": [
    "lr = LinearRegression()\n",
    "lr.fit(X_train_ohe,y_train)\n",
    "lr.score(X_test_ohe,y_test)"
   ]
  },
  {
   "cell_type": "code",
   "execution_count": 288,
   "metadata": {},
   "outputs": [
    {
     "data": {
      "text/plain": [
       "940211.2359823538"
      ]
     },
     "execution_count": 288,
     "metadata": {},
     "output_type": "execute_result"
    }
   ],
   "source": [
    "np.sqrt(mean_squared_error(y_test,lr.predict(X_test_ohe)))"
   ]
  },
  {
   "cell_type": "markdown",
   "metadata": {},
   "source": [
    "### Simple Model Evaluation"
   ]
  },
  {
   "cell_type": "markdown",
   "metadata": {},
   "source": [
    "#### Checking Normal Distribution of Input Variables"
   ]
  },
  {
   "cell_type": "code",
   "execution_count": 289,
   "metadata": {},
   "outputs": [
    {
     "data": {
      "text/plain": [
       "array([<AxesSubplot:ylabel='Density'>, <AxesSubplot:ylabel='Density'>,\n",
       "       <AxesSubplot:ylabel='Density'>], dtype=object)"
      ]
     },
     "execution_count": 289,
     "metadata": {},
     "output_type": "execute_result"
    },
    {
     "data": {
      "image/png": "[encoded data removed]",
      "text/plain": [
       "<Figure size 432x288 with 3 Axes>"
      ]
     },
     "metadata": {
      "needs_background": "light"
     },
     "output_type": "display_data"
    }
   ],
   "source": [
    "X_train_ohe.filter(['Largest Property Use Type - Gross Floor Area (ft²)','Year Built','ENERGY STAR Score'],axis=1).plot.kde(subplots=True,sharex=False)"
   ]
  },
  {
   "cell_type": "markdown",
   "metadata": {},
   "source": [
    "#### Checking Normal Distribution of Residuals"
   ]
  },
  {
   "cell_type": "code",
   "execution_count": 290,
   "metadata": {},
   "outputs": [
    {
     "data": {
      "image/png": "[encoded data removed]",
      "text/plain": [
       "<Figure size 432x288 with 1 Axes>"
      ]
     },
     "metadata": {
      "needs_background": "light"
     },
     "output_type": "display_data"
    }
   ],
   "source": [
    "qqplot(y_test-lr.predict(X_test_ohe),line='r')\n",
    "plt.show()"
   ]
  },
  {
   "cell_type": "markdown",
   "metadata": {},
   "source": [
    "#### Checking for Heteroskedasticity of Residuals"
   ]
  },
  {
   "cell_type": "code",
   "execution_count": 291,
   "metadata": {},
   "outputs": [
    {
     "data": {
      "image/png": "[encoded data removed]",
      "text/plain": [
       "<Figure size 432x288 with 1 Axes>"
      ]
     },
     "metadata": {
      "needs_background": "light"
     },
     "output_type": "display_data"
    }
   ],
   "source": [
    "plt.scatter(lr.predict(X_test_ohe), y_test-lr.predict(X_test_ohe), label='Test')\n",
    "plt.scatter(lr.predict(X_train_ohe), y_train-lr.predict(X_train_ohe), label='Train')\n",
    "\n",
    "plt.axhline(y=0, color = 'red', label = '0')\n",
    "plt.xlabel('predictions')\n",
    "plt.ylabel('residuals')\n",
    "plt.legend()\n",
    "plt.show()"
   ]
  },
  {
   "cell_type": "markdown",
   "metadata": {},
   "source": [
    "#### Checking Multicollinearity of Input Variables"
   ]
  },
  {
   "cell_type": "code",
   "execution_count": 292,
   "metadata": {},
   "outputs": [
    {
     "data": {
      "text/plain": [
       "<AxesSubplot:>"
      ]
     },
     "execution_count": 292,
     "metadata": {},
     "output_type": "execute_result"
    },
    {
     "data": {
      "image/png": "[encoded data removed]",
      "text/plain": [
       "<Figure size 432x288 with 2 Axes>"
      ]
     },
     "metadata": {
      "needs_background": "light"
     },
     "output_type": "display_data"
    }
   ],
   "source": [
    "sns.heatmap(X_train.corr(),annot=True)"
   ]
  },
  {
   "cell_type": "markdown",
   "metadata": {},
   "source": [
    "Based on the above assumption checks, linear regression does not appear to be the best choice."
   ]
  },
  {
   "cell_type": "markdown",
   "metadata": {},
   "source": [
    "### Final Model"
   ]
  },
  {
   "cell_type": "code",
   "execution_count": 293,
   "metadata": {},
   "outputs": [],
   "source": [
    "rfr = RandomForestRegressor()"
   ]
  },
  {
   "cell_type": "code",
   "execution_count": 294,
   "metadata": {},
   "outputs": [
    {
     "data": {
      "text/plain": [
       "RFE(estimator=RandomForestRegressor(), n_features_to_select=30)"
      ]
     },
     "execution_count": 294,
     "metadata": {},
     "output_type": "execute_result"
    }
   ],
   "source": [
    "rfe = RFE(rfr,n_features_to_select=30)\n",
    "rfe.fit(X_train_ohe,y_train)"
   ]
  },
  {
   "cell_type": "code",
   "execution_count": 297,
   "metadata": {},
   "outputs": [],
   "source": [
    "# final_list = ['Largest Property Use Type - Gross Floor Area (ft²)', 'Year Built', 'ENERGY STAR Score', 'ENERGY STAR Certification - Eligibility', 'College/University', 'Data Center', 'Distribution Center', 'Financial Office', 'Hospital (General Medical & Surgical)', 'Hotel', 'K-12 School', 'Laboratory', 'Manufacturing/Industrial Plant', 'Medical Office', 'Mixed Use Property', 'Multifamily Housing', 'Non-Refrigerated Warehouse', 'Office', 'Other', 'Other - Entertainment/Public Assembly', 'Other - Specialty Hospital', 'Parking', 'Prison/Incarceration', 'Residence Hall/Dormitory', 'Retail Store', 'Self-Storage Facility', 'Strip Mall', 'Supermarket/Grocery Store', 'Urgent Care/Clinic/Other Outpatient', 'Wastewater Treatment Plant']"
   ]
  },
  {
   "cell_type": "code",
   "execution_count": 295,
   "metadata": {},
   "outputs": [],
   "source": [
    "keep_list = [(k,v) for k,v in zip(X_train_ohe.columns,rfe.support_)]\n",
    "keep_string = ''\n",
    "for k,v in keep_list:\n",
    "    if v:\n",
    "        keep_string += k + '+'\n",
    "keep_string = keep_string[:-1]\n",
    "final_list = [ x[0] for x in keep_list if x[1] ]"
   ]
  },
  {
   "cell_type": "code",
   "execution_count": 62,
   "metadata": {},
   "outputs": [
    {
     "data": {
      "text/plain": [
       "RandomForestRegressor()"
      ]
     },
     "execution_count": 62,
     "metadata": {},
     "output_type": "execute_result"
    }
   ],
   "source": [
    "rfr.fit(X_train_ohe.filter(final_list),y_train)"
   ]
  },
  {
   "cell_type": "code",
   "execution_count": 164,
   "metadata": {},
   "outputs": [
    {
     "data": {
      "text/plain": [
       "{'max_depth': 40, 'min_samples_split': 10, 'n_estimators': 356}"
      ]
     },
     "execution_count": 164,
     "metadata": {},
     "output_type": "execute_result"
    }
   ],
   "source": [
    "params = {'n_estimators':np.linspace(10,400,num=10,dtype=int),\n",
    "          'max_depth': np.linspace(1,40,num=5,dtype=int),\n",
    "          'min_samples_split': np.linspace(2,10,num=5,dtype=int)}\n",
    "gs = GridSearchCV(rfr,params)\n",
    "gs.fit(X_train_ohe,y_train)\n",
    "gs.best_params_"
   ]
  },
  {
   "cell_type": "code",
   "execution_count": 298,
   "metadata": {},
   "outputs": [],
   "source": [
    "best_params = {'max_depth': 36, 'min_samples_split': 10, 'n_estimators': 356}"
   ]
  },
  {
   "cell_type": "code",
   "execution_count": 299,
   "metadata": {},
   "outputs": [
    {
     "data": {
      "text/plain": [
       "RandomForestRegressor(max_depth=36, min_samples_split=10, n_estimators=356)"
      ]
     },
     "execution_count": 299,
     "metadata": {},
     "output_type": "execute_result"
    }
   ],
   "source": [
    "rfr = RandomForestRegressor(max_depth=best_params['max_depth'],min_samples_split=best_params['min_samples_split'],n_estimators=best_params['n_estimators'])\n",
    "rfr.fit(X_train_ohe.filter(final_list),y_train)"
   ]
  },
  {
   "cell_type": "code",
   "execution_count": 300,
   "metadata": {},
   "outputs": [
    {
     "data": {
      "text/plain": [
       "0.8585274156171433"
      ]
     },
     "execution_count": 300,
     "metadata": {},
     "output_type": "execute_result"
    }
   ],
   "source": [
    "rfr.score(X_test_ohe.filter(final_list),y_test)"
   ]
  },
  {
   "cell_type": "markdown",
   "metadata": {},
   "source": [
    "Cross Validation to check for overfitting."
   ]
  },
  {
   "cell_type": "code",
   "execution_count": 301,
   "metadata": {},
   "outputs": [
    {
     "data": {
      "text/plain": [
       "array([0.78969241, 0.80263724, 0.75755329, 0.80460961, 0.78111326])"
      ]
     },
     "execution_count": 301,
     "metadata": {},
     "output_type": "execute_result"
    }
   ],
   "source": [
    "cross_val_score(rfr,X_train_ohe.filter(final_list),y_train)"
   ]
  },
  {
   "cell_type": "code",
   "execution_count": 302,
   "metadata": {},
   "outputs": [
    {
     "name": "stdout",
     "output_type": "stream",
     "text": [
      "RMSE Train Data: 482473.0\n",
      "RMSE Test Data: 613955.0\n"
     ]
    }
   ],
   "source": [
    "y_hat_train = rfr.predict(X_train_ohe.filter(final_list))\n",
    "print('RMSE Train Data:',round(np.sqrt(mean_squared_error(y_train,y_hat_train))))\n",
    "y_hat_test = rfr.predict(X_test_ohe.filter(final_list))\n",
    "print('RMSE Test Data:',round(np.sqrt(mean_squared_error(y_test,y_hat_test))))"
   ]
  },
  {
   "cell_type": "code",
   "execution_count": 303,
   "metadata": {},
   "outputs": [
    {
     "data": {
      "text/html": [
       "<div>\n",
       "<style scoped>\n",
       "    .dataframe tbody tr th:only-of-type {\n",
       "        vertical-align: middle;\n",
       "    }\n",
       "\n",
       "    .dataframe tbody tr th {\n",
       "        vertical-align: top;\n",
       "    }\n",
       "\n",
       "    .dataframe thead th {\n",
       "        text-align: right;\n",
       "    }\n",
       "</style>\n",
       "<table border=\"1\" class=\"dataframe\">\n",
       "  <thead>\n",
       "    <tr style=\"text-align: right;\">\n",
       "      <th></th>\n",
       "      <th>Electricity Use - Grid Purchase (kWh)</th>\n",
       "    </tr>\n",
       "  </thead>\n",
       "  <tbody>\n",
       "    <tr>\n",
       "      <th>count</th>\n",
       "      <td>2.061000e+04</td>\n",
       "    </tr>\n",
       "    <tr>\n",
       "      <th>mean</th>\n",
       "      <td>9.752697e+05</td>\n",
       "    </tr>\n",
       "    <tr>\n",
       "      <th>std</th>\n",
       "      <td>1.704314e+06</td>\n",
       "    </tr>\n",
       "    <tr>\n",
       "      <th>min</th>\n",
       "      <td>1.200000e+01</td>\n",
       "    </tr>\n",
       "    <tr>\n",
       "      <th>25%</th>\n",
       "      <td>2.164623e+05</td>\n",
       "    </tr>\n",
       "    <tr>\n",
       "      <th>50%</th>\n",
       "      <td>3.993497e+05</td>\n",
       "    </tr>\n",
       "    <tr>\n",
       "      <th>75%</th>\n",
       "      <td>9.134812e+05</td>\n",
       "    </tr>\n",
       "    <tr>\n",
       "      <th>max</th>\n",
       "      <td>1.536148e+07</td>\n",
       "    </tr>\n",
       "  </tbody>\n",
       "</table>\n",
       "</div>"
      ],
      "text/plain": [
       "       Electricity Use - Grid Purchase (kWh)\n",
       "count                           2.061000e+04\n",
       "mean                            9.752697e+05\n",
       "std                             1.704314e+06\n",
       "min                             1.200000e+01\n",
       "25%                             2.164623e+05\n",
       "50%                             3.993497e+05\n",
       "75%                             9.134812e+05\n",
       "max                             1.536148e+07"
      ]
     },
     "execution_count": 303,
     "metadata": {},
     "output_type": "execute_result"
    }
   ],
   "source": [
    "dfx[['Electricity Use - Grid Purchase (kWh)']].describe()"
   ]
  },
  {
   "cell_type": "markdown",
   "metadata": {},
   "source": [
    "## Findings"
   ]
  },
  {
   "cell_type": "code",
   "execution_count": 304,
   "metadata": {},
   "outputs": [],
   "source": [
    "features = [(x,y) for x,y in zip(rfr.feature_importances_,final_list)]\n",
    "features.sort(key=lambda x: x[0],reverse=True)"
   ]
  },
  {
   "cell_type": "markdown",
   "metadata": {},
   "source": [
    "The final model is able to predict a building's annual electricity usage from the grid to within 595,614 kW h. The standard deviation of the dataset is 1,630,000 kW h."
   ]
  },
  {
   "cell_type": "markdown",
   "metadata": {},
   "source": [
    "#### Visualizing Top Energy Users"
   ]
  },
  {
   "cell_type": "code",
   "execution_count": 306,
   "metadata": {},
   "outputs": [
    {
     "data": {
      "image/png": "[encoded data removed]",
      "text/plain": [
       "<Figure size 1800x720 with 1 Axes>"
      ]
     },
     "metadata": {
      "needs_background": "light"
     },
     "output_type": "display_data"
    }
   ],
   "source": [
    "plt.rcParams['xtick.labelsize'] = 15\n",
    "plt.rcParams['ytick.labelsize'] = 15\n",
    "plt.rcParams['axes.labelsize'] = 20\n",
    "\n",
    "def change_ent(x):\n",
    "    if x == 'Hospital (General Medical & Surgical)':\n",
    "        return 'Hospital'\n",
    "    elif x == 'Refrigerated Warehouse':\n",
    "        return 'Ref Warehouse'\n",
    "    elif x == 'Non-Refrigerated Warehouse':\n",
    "        return 'Non-Ref Warehouse'\n",
    "    elif x == 'Wastewater Treatment Plant':\n",
    "        return 'Wastewater Plant'\n",
    "    elif x == 'Ambulatory Surgical Center':\n",
    "        return 'Surgical Center'\n",
    "    else:\n",
    "        return x\n",
    "\n",
    "dfx['Primary Property Type - Self Selected'] = dfx['Primary Property Type - Self Selected'].map(change_ent)\n",
    "\n",
    "dfx.groupby('Primary Property Type - Self Selected').mean()[['Electricity Use - Grid Purchase (kWh)']].sort_values('Electricity Use - Grid Purchase (kWh)',ascending=False)[:5].plot(kind='bar',rot=0,xlabel='Primary Use',ylabel='Average Annual Energy Use (1 million kW h)',figsize=(25,10),color=['orangered','orange'])\n",
    "plt.show()"
   ]
  },
  {
   "cell_type": "markdown",
   "metadata": {},
   "source": [
    "The top energy users fall into categories that typically have large square footage buildings and contain energy intensive processes."
   ]
  },
  {
   "cell_type": "code",
   "execution_count": 309,
   "metadata": {},
   "outputs": [
    {
     "data": {
      "image/png": "[encoded data removed]",
      "text/plain": [
       "<Figure size 1440x720 with 1 Axes>"
      ]
     },
     "metadata": {
      "needs_background": "light"
     },
     "output_type": "display_data"
    }
   ],
   "source": [
    "efficiency_list = []\n",
    "# for x in dfx.value_counts('Primary Property Type - Self Selected').index:\n",
    "#     temp_df = pd.DataFrame()\n",
    "#     temp_df = dfx[dfx['Primary Property Type - Self Selected'] == x]\n",
    "#     efficiency_list.append((x,temp_df['ENERGY STAR Certification - Eligibility'].sum()/temp_df.shape[0]*100))\n",
    "\n",
    "df['Primary Property Type - Self Selected'] = df['Primary Property Type - Self Selected'].map(change_ent)\n",
    "\n",
    "for x in df.value_counts('Primary Property Type - Self Selected').index:\n",
    "    temp_df = pd.DataFrame()\n",
    "    temp_df = df[df['Primary Property Type - Self Selected'] == x].drop_duplicates('Property Id')\n",
    "    temp_df['ENERGY STAR Certification - Eligibility'] = temp_df['ENERGY STAR Certification - Eligibility'].map(energystar)\n",
    "    efficiency_list.append((x,temp_df['ENERGY STAR Certification - Eligibility'].sum()/temp_df.shape[0]*100))\n",
    "\n",
    "efficiency_list.sort(key=lambda x: x[1],reverse=True)\n",
    "\n",
    "final_effic_list = efficiency_list[:6]\n",
    "\n",
    "# final_effic_list = [('Office', 14.878892733564014), ('Bank Branch', 14.285714285714285), ('Refrigerated Warehouse', 12.5), ('Distribution Center', 10.989010989010989), ('Non-Refrigerated Warehouse', 8.02919708029197), ('Multifamily Housing', 6.050864409201314), ('Hospital (General Medical & Surgical)', 5.405405405405405)]\n",
    "\n",
    "fig,ax = plt.subplots(figsize=(20,10))\n",
    "\n",
    "ax.bar(x=[x[0] for x in final_effic_list],height=[y[1] for y in final_effic_list],color=['orangered','orange'])\n",
    "ax.set(xlabel=\"Primary Use\")\n",
    "ax.set(ylabel=\"Percent of Buildings Eligible for Energy Saving Rebates\")\n",
    "plt.xticks(rotation=0)\n",
    "plt.show()"
   ]
  },
  {
   "cell_type": "markdown",
   "metadata": {},
   "source": [
    "The above graph shows the top performing primary uses by percentage of buildings that qualify for Energy Credits (70th percentile for energy efficiency). Ambulatory Surgical Centers and Wastewater Treatment Plants, while being in the top for energy consumption are not present in the top performing primary uses."
   ]
  },
  {
   "cell_type": "markdown",
   "metadata": {},
   "source": [
    "## Recommendations"
   ]
  },
  {
   "cell_type": "markdown",
   "metadata": {},
   "source": [
    "- Focus energy efficiency incentive programs on high electricity use buildings that have the lowest percentage of energy credit qualifying buildings (Prisons, Surgical Centers, Wastewater Treatment Plants).\n",
    "- Forecast Citywide Annual Electricity Usage by making predictions using a targeted energy efficiency metric. For example predict electricity usage for buildings using a goal energy efficiency metric (i.e. 5% increase in energy efficiency) to determine potential efficiency savings."
   ]
  },
  {
   "cell_type": "markdown",
   "metadata": {},
   "source": [
    "## Future Research"
   ]
  },
  {
   "cell_type": "markdown",
   "metadata": {},
   "source": [
    "- Use sub-metering data in the model to include the exact energy use (HVAC,Lighting,Computers). For example, understanding which energy use by primary use of the building could help with creating more targeted incentive programs and recommended solutions.\n",
    "- Incorporate weather data to show effects of seasonality on energy use"
   ]
  }
 ],
 "metadata": {
  "interpreter": {
   "hash": "7a3d059f376a9d0551670ac739dcc834dd342b8d7d90019c6bdbef463e084516"
  },
  "kernelspec": {
   "display_name": "Python 3.8.5 64-bit ('learn-env': conda)",
   "language": "python",
   "name": "python3"
  },
  "language_info": {
   "codemirror_mode": {
    "name": "ipython",
    "version": 3
   },
   "file_extension": ".py",
   "mimetype": "text/x-python",
   "name": "python",
   "nbconvert_exporter": "python",
   "pygments_lexer": "ipython3",
   "version": "3.8.5"
  },
  "orig_nbformat": 4
 },
 "nbformat": 4,
 "nbformat_minor": 2
}
