{
 "cells": [
  {
   "cell_type": "markdown",
   "metadata": {},
   "source": [
    "- Agile Methodology\n",
    "    * \n",
    "\n",
    "\n",
    "- Prepare elevator pitch for standup meetings\n",
    "\n",
    "\n",
    "Kanban Board Format (use trello):\n",
    "\n",
    "| icebox | todo | doing | done |\n",
    "|--------|------|-------|------|\n",
    "\n",
    "\n",
    "* submit github link and trello link by monday\n",
    "* submit first simple model by wednesday\n",
    "* submit MVP by 11/29\n",
    "* any deployments (flask) must be submitted by 12/1\n",
    "* code freeze and practice presentations on 12/2\n",
    "* second practice presentations on 12/6\n",
    "* presenting on 12/8"
   ]
  }
 ],
 "metadata": {
  "interpreter": {
   "hash": "7a3d059f376a9d0551670ac739dcc834dd342b8d7d90019c6bdbef463e084516"
  },
  "kernelspec": {
   "display_name": "Python 3.8.5 64-bit ('learn-env': conda)",
   "language": "python",
   "name": "python3"
  },
  "language_info": {
   "name": "python",
   "version": "3.8.5"
  },
  "orig_nbformat": 4
 },
 "nbformat": 4,
 "nbformat_minor": 2
}
