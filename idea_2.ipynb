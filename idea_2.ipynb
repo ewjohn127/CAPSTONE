{
 "cells": [
  {
   "cell_type": "code",
   "execution_count": 19,
   "metadata": {},
   "outputs": [],
   "source": [
    "import pandas as pd\n",
    "import numpy as np\n",
    "import itertools\n",
    "\n",
    "import matplotlib.pyplot as plt\n",
    "import seaborn as sns\n",
    "\n",
    "from sklearn.impute import SimpleImputer\n",
    "from sklearn.model_selection import train_test_split, cross_val_score\n",
    "from sklearn.preprocessing import StandardScaler, OneHotEncoder, LabelEncoder\n",
    "from sklearn.linear_model import LinearRegression\n",
    "from sklearn.feature_selection import RFE\n",
    "from sklearn.metrics import mean_squared_error, mean_squared_log_error\n",
    "from sklearn.ensemble import RandomForestRegressor\n",
    "from sklearn.tree import DecisionTreeClassifier\n",
    "\n",
    "from statsmodels.formula.api import ols\n",
    "\n",
    "from scipy import stats"
   ]
  },
  {
   "cell_type": "code",
   "execution_count": 20,
   "metadata": {},
   "outputs": [],
   "source": [
    "df_meta = pd.read_csv('/Users/evanjays/Desktop/Programming/Flatiron/CAPSTONE/data_big/ashrae-energy-prediction/building_metadata.csv')\n",
    "df = pd.read_csv('/Users/evanjays/Desktop/Programming/Flatiron/CAPSTONE/data_big/ashrae-energy-prediction/train.csv')\n",
    "df_weather = pd.read_csv('/Users/evanjays/Desktop/Programming/Flatiron/CAPSTONE/data_big/ashrae-energy-prediction/weather_train.csv')"
   ]
  },
  {
   "cell_type": "code",
   "execution_count": 21,
   "metadata": {},
   "outputs": [],
   "source": [
    "meter_data_list = []\n",
    "df['timestamp'] = pd.to_datetime(df['timestamp'])\n",
    "df = df[df['meter'] == 0]\n",
    "for i in df['building_id'].unique():\n",
    "    df_temp = pd.DataFrame()\n",
    "    df_temp = df[df['building_id'] == i].copy(deep=True)\n",
    "    df_temp.set_index('timestamp',inplace=True)\n",
    "    df_temp = df_temp.groupby('building_id').resample('A').sum()\n",
    "    df_temp.building_id.ffill(inplace=True)\n",
    "    meter_data_list.append(df_temp)\n",
    "\n",
    "df_meter_daily = pd.DataFrame()\n",
    "for dataframe in meter_data_list:\n",
    "    dataframe.drop(['building_id'],inplace=True,axis=1)\n",
    "    dataframe.reset_index(inplace=True) \n",
    "    df_meter_daily = pd.concat([df_meter_daily,dataframe])\n",
    "\n",
    "df_meter_daily.drop(['meter'],axis=1,inplace=True)"
   ]
  },
  {
   "cell_type": "code",
   "execution_count": 22,
   "metadata": {},
   "outputs": [],
   "source": [
    "df_meter_daily.reset_index(inplace=True,drop=True)\n",
    "\n",
    "df_meta_energy = df_meta.merge(df_meter_daily,how='right',on='building_id')"
   ]
  },
  {
   "cell_type": "code",
   "execution_count": 23,
   "metadata": {},
   "outputs": [],
   "source": [
    "df_meta_energy.drop(['building_id','timestamp'],axis=1,inplace=True)"
   ]
  },
  {
   "cell_type": "code",
   "execution_count": 24,
   "metadata": {},
   "outputs": [],
   "source": [
    "use_dict = {}\n",
    "\n",
    "for use in X_train['primary_use'].unique():\n",
    "    if X_train[X_train['primary_use'] == use]['floor_count'].isna().sum() == X_train[X_train['primary_use'] == use]['floor_count'].shape[0]:\n",
    "        use_dict[use] = 1\n",
    "    else:\n",
    "        use_dict[use] = round(X_train[X_train['primary_use'] == use]['floor_count'].median())\n",
    "\n",
    "def get_num_floors(num_floors):\n",
    "    if num_floors > 0:\n",
    "        return num_floors\n",
    "    else:\n",
    "        return use_dict[use]\n",
    "\n",
    "def impute_num_floors(dataframe):\n",
    "    metadata_list = []\n",
    "    for idx,use in enumerate(dataframe['primary_use'].unique()):\n",
    "        df_temp = pd.DataFrame()\n",
    "        df_temp = dataframe[dataframe['primary_use'] == use].copy(deep=True)\n",
    "        df_temp['floor_count'] = df_temp['floor_count'].map(get_num_floors)\n",
    "        metadata_list.append(df_temp.copy(deep=True))\n",
    "\n",
    "    df_imputed = pd.DataFrame()\n",
    "    for dataframe in metadata_list:\n",
    "        df_imputed = pd.concat([df_imputed,dataframe])\n",
    "\n",
    "    df_imputed.drop(['year_built'],inplace=True,axis=1)\n",
    "    return df_imputed\n",
    "\n",
    "df_meta_energy = impute_num_floors(df_meta_energy)"
   ]
  },
  {
   "cell_type": "code",
   "execution_count": 25,
   "metadata": {},
   "outputs": [],
   "source": [
    "X_train,X_test,y_train,y_test = train_test_split(df_meta_energy.drop(['meter_reading'],axis=1),df_meta_energy['meter_reading'])"
   ]
  },
  {
   "cell_type": "code",
   "execution_count": 26,
   "metadata": {},
   "outputs": [
    {
     "data": {
      "text/html": [
       "<div>\n",
       "<style scoped>\n",
       "    .dataframe tbody tr th:only-of-type {\n",
       "        vertical-align: middle;\n",
       "    }\n",
       "\n",
       "    .dataframe tbody tr th {\n",
       "        vertical-align: top;\n",
       "    }\n",
       "\n",
       "    .dataframe thead th {\n",
       "        text-align: right;\n",
       "    }\n",
       "</style>\n",
       "<table border=\"1\" class=\"dataframe\">\n",
       "  <thead>\n",
       "    <tr style=\"text-align: right;\">\n",
       "      <th></th>\n",
       "      <th>site_id</th>\n",
       "      <th>primary_use</th>\n",
       "      <th>square_feet</th>\n",
       "      <th>floor_count</th>\n",
       "    </tr>\n",
       "  </thead>\n",
       "  <tbody>\n",
       "    <tr>\n",
       "      <th>284</th>\n",
       "      <td>2</td>\n",
       "      <td>Lodging/residential</td>\n",
       "      <td>32841</td>\n",
       "      <td>1.0</td>\n",
       "    </tr>\n",
       "    <tr>\n",
       "      <th>1278</th>\n",
       "      <td>15</td>\n",
       "      <td>Education</td>\n",
       "      <td>98125</td>\n",
       "      <td>1.0</td>\n",
       "    </tr>\n",
       "    <tr>\n",
       "      <th>1148</th>\n",
       "      <td>13</td>\n",
       "      <td>Office</td>\n",
       "      <td>35829</td>\n",
       "      <td>1.0</td>\n",
       "    </tr>\n",
       "    <tr>\n",
       "      <th>1263</th>\n",
       "      <td>14</td>\n",
       "      <td>Lodging/residential</td>\n",
       "      <td>66794</td>\n",
       "      <td>1.0</td>\n",
       "    </tr>\n",
       "    <tr>\n",
       "      <th>1250</th>\n",
       "      <td>14</td>\n",
       "      <td>Education</td>\n",
       "      <td>171084</td>\n",
       "      <td>1.0</td>\n",
       "    </tr>\n",
       "    <tr>\n",
       "      <th>...</th>\n",
       "      <td>...</td>\n",
       "      <td>...</td>\n",
       "      <td>...</td>\n",
       "      <td>...</td>\n",
       "    </tr>\n",
       "    <tr>\n",
       "      <th>1287</th>\n",
       "      <td>15</td>\n",
       "      <td>Office</td>\n",
       "      <td>14744</td>\n",
       "      <td>1.0</td>\n",
       "    </tr>\n",
       "    <tr>\n",
       "      <th>156</th>\n",
       "      <td>2</td>\n",
       "      <td>Office</td>\n",
       "      <td>10135</td>\n",
       "      <td>1.0</td>\n",
       "    </tr>\n",
       "    <tr>\n",
       "      <th>1354</th>\n",
       "      <td>15</td>\n",
       "      <td>Lodging/residential</td>\n",
       "      <td>65663</td>\n",
       "      <td>1.0</td>\n",
       "    </tr>\n",
       "    <tr>\n",
       "      <th>1307</th>\n",
       "      <td>15</td>\n",
       "      <td>Entertainment/public assembly</td>\n",
       "      <td>111530</td>\n",
       "      <td>1.0</td>\n",
       "    </tr>\n",
       "    <tr>\n",
       "      <th>559</th>\n",
       "      <td>4</td>\n",
       "      <td>Education</td>\n",
       "      <td>2010</td>\n",
       "      <td>1.0</td>\n",
       "    </tr>\n",
       "  </tbody>\n",
       "</table>\n",
       "<p>1059 rows × 4 columns</p>\n",
       "</div>"
      ],
      "text/plain": [
       "      site_id                    primary_use  square_feet  floor_count\n",
       "284         2            Lodging/residential        32841          1.0\n",
       "1278       15                      Education        98125          1.0\n",
       "1148       13                         Office        35829          1.0\n",
       "1263       14            Lodging/residential        66794          1.0\n",
       "1250       14                      Education       171084          1.0\n",
       "...       ...                            ...          ...          ...\n",
       "1287       15                         Office        14744          1.0\n",
       "156         2                         Office        10135          1.0\n",
       "1354       15            Lodging/residential        65663          1.0\n",
       "1307       15  Entertainment/public assembly       111530          1.0\n",
       "559         4                      Education         2010          1.0\n",
       "\n",
       "[1059 rows x 4 columns]"
      ]
     },
     "execution_count": 26,
     "metadata": {},
     "output_type": "execute_result"
    }
   ],
   "source": [
    "X_train"
   ]
  },
  {
   "cell_type": "code",
   "execution_count": 28,
   "metadata": {},
   "outputs": [],
   "source": [
    "ohe = OneHotEncoder(drop='first')\n",
    "\n",
    "ohe_train_array = ohe.fit_transform(X_train[['primary_use']])\n",
    "ohe_train_df = pd.DataFrame(ohe_train_array.todense(),columns=[name[3:] for name in ohe.get_feature_names()])\n",
    "\n",
    "ohe_test_array = ohe.transform(X_test[['primary_use']])\n",
    "ohe_test_df = pd.DataFrame(ohe_test_array.todense(),columns=[name[3:] for name in ohe.get_feature_names()])\n",
    "\n",
    "X_train.reset_index(inplace=True,drop=True)\n",
    "X_train_ohe = pd.concat([X_train,ohe_train_df],axis=1)\n",
    "X_train_ohe.drop(['primary_use'],axis=1,inplace=True)\n",
    "\n",
    "X_test.reset_index(inplace=True,drop=True)\n",
    "X_test_ohe = pd.concat([X_test,ohe_test_df],axis=1)\n",
    "X_test_ohe.drop(['primary_use'],axis=1,inplace=True)"
   ]
  },
  {
   "cell_type": "code",
   "execution_count": 29,
   "metadata": {},
   "outputs": [],
   "source": [
    "ohe_train_array = ohe.fit_transform(X_train_ohe[['site_id']])\n",
    "ohe_train_df = pd.DataFrame(ohe_train_array.todense(),columns=['site_'+name[3:] for name in ohe.get_feature_names()])\n",
    "\n",
    "ohe_test_array = ohe.transform(X_test_ohe[['site_id']])\n",
    "ohe_test_df = pd.DataFrame(ohe_test_array.todense(),columns=['site_'+name[3:] for name in ohe.get_feature_names()])\n",
    "\n",
    "X_train_ohe.reset_index(inplace=True,drop=True)\n",
    "X_train_ohe = pd.concat([X_train_ohe,ohe_train_df],axis=1)\n",
    "X_train_ohe.drop(['site_id'],axis=1,inplace=True)\n",
    "\n",
    "X_test_ohe.reset_index(inplace=True,drop=True)\n",
    "X_test_ohe = pd.concat([X_test_ohe,ohe_test_df],axis=1)\n",
    "X_test_ohe.drop(['site_id'],axis=1,inplace=True)"
   ]
  },
  {
   "cell_type": "code",
   "execution_count": 31,
   "metadata": {},
   "outputs": [
    {
     "data": {
      "text/plain": [
       "0.5630506170880045"
      ]
     },
     "execution_count": 31,
     "metadata": {},
     "output_type": "execute_result"
    }
   ],
   "source": [
    "lr = LinearRegression()\n",
    "\n",
    "lr.fit(X_train_ohe,y_train)\n",
    "\n",
    "lr.score(X_test_ohe,y_test)"
   ]
  }
 ],
 "metadata": {
  "interpreter": {
   "hash": "7a3d059f376a9d0551670ac739dcc834dd342b8d7d90019c6bdbef463e084516"
  },
  "kernelspec": {
   "display_name": "Python 3.8.5 64-bit ('learn-env': conda)",
   "language": "python",
   "name": "python3"
  },
  "language_info": {
   "codemirror_mode": {
    "name": "ipython",
    "version": 3
   },
   "file_extension": ".py",
   "mimetype": "text/x-python",
   "name": "python",
   "nbconvert_exporter": "python",
   "pygments_lexer": "ipython3",
   "version": "3.8.5"
  },
  "orig_nbformat": 4
 },
 "nbformat": 4,
 "nbformat_minor": 2
}
